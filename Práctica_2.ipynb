{
  "cells": [
    {
      "cell_type": "code",
      "execution_count": 334,
      "metadata": {
        "id": "Xle04Ixt6JmE"
      },
      "outputs": [],
      "source": [
        "# Importación de librerías\n",
        "\n",
        "import numpy as np\n",
        "import pandas as pd\n",
        "import sklearn.compose as Compose\n",
        "import math\n",
        "\n",
        "from sklearn.preprocessing import MinMaxScaler\n",
        "from sklearn.preprocessing import OrdinalEncoder\n",
        "from sklearn.preprocessing import KBinsDiscretizer\n",
        "\n",
        "from sklearn.metrics import mean_absolute_error\n",
        "from sklearn.model_selection import cross_val_score\n",
        "from sklearn.model_selection import StratifiedKFold\n",
        "from sklearn.model_selection import RandomizedSearchCV, GridSearchCV, KFold\n",
        "from sklearn.feature_extraction.text import CountVectorizer\n",
        "\n",
        "\n",
        "import matplotlib.pyplot as plt\n",
        "\n",
        "from sklearn.model_selection import train_test_split\n",
        "from xgboost import XGBRegressor\n",
        "import xgboost as xgb\n",
        "import re\n"
      ]
    },
    {
      "cell_type": "code",
      "execution_count": 335,
      "metadata": {
        "colab": {
          "base_uri": "https://localhost:8080/",
          "height": 502
        },
        "id": "yhlH1ExQ4ewa",
        "outputId": "2fb05b0c-4229-4d39-efc4-d5e328bfd103"
      },
      "outputs": [
        {
          "output_type": "execute_result",
          "data": {
            "text/plain": [
              "           ID  Customer_ID  Month               Name   Age          SSN  \\\n",
              "0       99246         4759      1           Edwardsz  45.0  169291865.0   \n",
              "1       90071         2573      6            Stevenw  42.0  655780925.0   \n",
              "2       64375        34237      2             Dalaly  32.0   55005463.0   \n",
              "3      142441        47128      8              Lashx  24.0  958087164.0   \n",
              "4      135010        21542      5           Toonkelz  22.0  862456731.0   \n",
              "...       ...          ...    ...                ...   ...          ...   \n",
              "19995  126990        43904      1             Wayneo  42.0  448192628.0   \n",
              "19996  128347         8248      2  Daria Sito-Sucicd  32.0  563291145.0   \n",
              "19997   88941        19882      4            Laurend  43.0  451289406.0   \n",
              "19998   89599        50969      2              Nickx  35.0  994774680.0   \n",
              "19999  107146        40554      5               Koky  52.0  203003994.0   \n",
              "\n",
              "          Occupation  Annual_Income  Monthly_Inhand_Salary  Num_Bank_Accounts  \\\n",
              "0            Manager      57738.060            4881.505000                9.0   \n",
              "1          Scientist      19205.485            1828.457083                5.0   \n",
              "2          Scientist      49768.710            4045.392500                7.0   \n",
              "3             Lawyer      62424.120            5010.010000                7.0   \n",
              "4       Entrepreneur     128163.360           10648.280000                5.0   \n",
              "...              ...            ...                    ...                ...   \n",
              "19995      Scientist      37760.220            3393.685000                3.0   \n",
              "19996       Mechanic      29818.780            2257.898333                4.0   \n",
              "19997         Lawyer      34744.150            2784.345833                3.0   \n",
              "19998  Media_Manager      60271.920            4782.660000                6.0   \n",
              "19999         Writer      79300.220            6354.351667                1.0   \n",
              "\n",
              "       ...  Num_Credit_Inquiries  Credit_Mix  Outstanding_Debt  \\\n",
              "0      ...                  11.0         Bad           3916.47   \n",
              "1      ...                   3.0        Good            372.06   \n",
              "2      ...                  11.0    Standard           1428.04   \n",
              "3      ...                   6.0    Standard           1958.36   \n",
              "4      ...                   5.0        Good           1494.56   \n",
              "...    ...                   ...         ...               ...   \n",
              "19995  ...                   3.0        Good            821.10   \n",
              "19996  ...                   4.0        Good            702.20   \n",
              "19997  ...                   3.0        Good            219.59   \n",
              "19998  ...                  11.0         Bad           4546.95   \n",
              "19999  ...                   1.0        Good            284.52   \n",
              "\n",
              "      Credit_Utilization_Ratio  Credit_History_Age  Payment_of_Min_Amount  \\\n",
              "0                    22.899499               157.0                    Yes   \n",
              "1                    24.585730               241.0                     No   \n",
              "2                    25.129810               168.0                    Yes   \n",
              "3                    27.004401               154.0                    Yes   \n",
              "4                    30.911401               222.0                     No   \n",
              "...                        ...                 ...                    ...   \n",
              "19995                23.938159               194.0                     No   \n",
              "19996                30.990148               376.0                     No   \n",
              "19997                36.911828               398.0                     No   \n",
              "19998                32.122843                96.0                    Yes   \n",
              "19999                29.720272               278.0                     NM   \n",
              "\n",
              "       Total_EMI_per_month  Amount_invested_monthly  \\\n",
              "0               296.284136                53.821178   \n",
              "1                39.417086                19.311009   \n",
              "2               225.693491                50.036548   \n",
              "3               175.360317                55.101365   \n",
              "4               281.792301                77.036872   \n",
              "...                    ...                      ...   \n",
              "19995            88.485663                37.562828   \n",
              "19996            45.977299                27.931177   \n",
              "19997            52.218894                67.741940   \n",
              "19998           203.605795                36.776460   \n",
              "19999           179.304812                59.477685   \n",
              "\n",
              "                      Payment_Behaviour  Monthly_Balance  \n",
              "0       Low_spent_Medium_value_payments        71.427393  \n",
              "1        Low_spent_Small_value_payments       211.447299  \n",
              "2        Low_spent_Small_value_payments       198.465986  \n",
              "3       High_spent_Large_value_payments       472.761456  \n",
              "4        Low_spent_Large_value_payments       536.997743  \n",
              "...                                 ...              ...  \n",
              "19995  High_spent_Medium_value_payments       426.575752  \n",
              "19996   High_spent_Small_value_payments       298.961882  \n",
              "19997   Low_spent_Medium_value_payments       336.382928  \n",
              "19998  High_spent_Medium_value_payments       381.365614  \n",
              "19999    Low_spent_Large_value_payments       474.759497  \n",
              "\n",
              "[20000 rows x 27 columns]"
            ],
            "text/html": [
              "\n",
              "  <div id=\"df-f0129089-cc21-4395-88ab-89fa25db819d\">\n",
              "    <div class=\"colab-df-container\">\n",
              "      <div>\n",
              "<style scoped>\n",
              "    .dataframe tbody tr th:only-of-type {\n",
              "        vertical-align: middle;\n",
              "    }\n",
              "\n",
              "    .dataframe tbody tr th {\n",
              "        vertical-align: top;\n",
              "    }\n",
              "\n",
              "    .dataframe thead th {\n",
              "        text-align: right;\n",
              "    }\n",
              "</style>\n",
              "<table border=\"1\" class=\"dataframe\">\n",
              "  <thead>\n",
              "    <tr style=\"text-align: right;\">\n",
              "      <th></th>\n",
              "      <th>ID</th>\n",
              "      <th>Customer_ID</th>\n",
              "      <th>Month</th>\n",
              "      <th>Name</th>\n",
              "      <th>Age</th>\n",
              "      <th>SSN</th>\n",
              "      <th>Occupation</th>\n",
              "      <th>Annual_Income</th>\n",
              "      <th>Monthly_Inhand_Salary</th>\n",
              "      <th>Num_Bank_Accounts</th>\n",
              "      <th>...</th>\n",
              "      <th>Num_Credit_Inquiries</th>\n",
              "      <th>Credit_Mix</th>\n",
              "      <th>Outstanding_Debt</th>\n",
              "      <th>Credit_Utilization_Ratio</th>\n",
              "      <th>Credit_History_Age</th>\n",
              "      <th>Payment_of_Min_Amount</th>\n",
              "      <th>Total_EMI_per_month</th>\n",
              "      <th>Amount_invested_monthly</th>\n",
              "      <th>Payment_Behaviour</th>\n",
              "      <th>Monthly_Balance</th>\n",
              "    </tr>\n",
              "  </thead>\n",
              "  <tbody>\n",
              "    <tr>\n",
              "      <th>0</th>\n",
              "      <td>99246</td>\n",
              "      <td>4759</td>\n",
              "      <td>1</td>\n",
              "      <td>Edwardsz</td>\n",
              "      <td>45.0</td>\n",
              "      <td>169291865.0</td>\n",
              "      <td>Manager</td>\n",
              "      <td>57738.060</td>\n",
              "      <td>4881.505000</td>\n",
              "      <td>9.0</td>\n",
              "      <td>...</td>\n",
              "      <td>11.0</td>\n",
              "      <td>Bad</td>\n",
              "      <td>3916.47</td>\n",
              "      <td>22.899499</td>\n",
              "      <td>157.0</td>\n",
              "      <td>Yes</td>\n",
              "      <td>296.284136</td>\n",
              "      <td>53.821178</td>\n",
              "      <td>Low_spent_Medium_value_payments</td>\n",
              "      <td>71.427393</td>\n",
              "    </tr>\n",
              "    <tr>\n",
              "      <th>1</th>\n",
              "      <td>90071</td>\n",
              "      <td>2573</td>\n",
              "      <td>6</td>\n",
              "      <td>Stevenw</td>\n",
              "      <td>42.0</td>\n",
              "      <td>655780925.0</td>\n",
              "      <td>Scientist</td>\n",
              "      <td>19205.485</td>\n",
              "      <td>1828.457083</td>\n",
              "      <td>5.0</td>\n",
              "      <td>...</td>\n",
              "      <td>3.0</td>\n",
              "      <td>Good</td>\n",
              "      <td>372.06</td>\n",
              "      <td>24.585730</td>\n",
              "      <td>241.0</td>\n",
              "      <td>No</td>\n",
              "      <td>39.417086</td>\n",
              "      <td>19.311009</td>\n",
              "      <td>Low_spent_Small_value_payments</td>\n",
              "      <td>211.447299</td>\n",
              "    </tr>\n",
              "    <tr>\n",
              "      <th>2</th>\n",
              "      <td>64375</td>\n",
              "      <td>34237</td>\n",
              "      <td>2</td>\n",
              "      <td>Dalaly</td>\n",
              "      <td>32.0</td>\n",
              "      <td>55005463.0</td>\n",
              "      <td>Scientist</td>\n",
              "      <td>49768.710</td>\n",
              "      <td>4045.392500</td>\n",
              "      <td>7.0</td>\n",
              "      <td>...</td>\n",
              "      <td>11.0</td>\n",
              "      <td>Standard</td>\n",
              "      <td>1428.04</td>\n",
              "      <td>25.129810</td>\n",
              "      <td>168.0</td>\n",
              "      <td>Yes</td>\n",
              "      <td>225.693491</td>\n",
              "      <td>50.036548</td>\n",
              "      <td>Low_spent_Small_value_payments</td>\n",
              "      <td>198.465986</td>\n",
              "    </tr>\n",
              "    <tr>\n",
              "      <th>3</th>\n",
              "      <td>142441</td>\n",
              "      <td>47128</td>\n",
              "      <td>8</td>\n",
              "      <td>Lashx</td>\n",
              "      <td>24.0</td>\n",
              "      <td>958087164.0</td>\n",
              "      <td>Lawyer</td>\n",
              "      <td>62424.120</td>\n",
              "      <td>5010.010000</td>\n",
              "      <td>7.0</td>\n",
              "      <td>...</td>\n",
              "      <td>6.0</td>\n",
              "      <td>Standard</td>\n",
              "      <td>1958.36</td>\n",
              "      <td>27.004401</td>\n",
              "      <td>154.0</td>\n",
              "      <td>Yes</td>\n",
              "      <td>175.360317</td>\n",
              "      <td>55.101365</td>\n",
              "      <td>High_spent_Large_value_payments</td>\n",
              "      <td>472.761456</td>\n",
              "    </tr>\n",
              "    <tr>\n",
              "      <th>4</th>\n",
              "      <td>135010</td>\n",
              "      <td>21542</td>\n",
              "      <td>5</td>\n",
              "      <td>Toonkelz</td>\n",
              "      <td>22.0</td>\n",
              "      <td>862456731.0</td>\n",
              "      <td>Entrepreneur</td>\n",
              "      <td>128163.360</td>\n",
              "      <td>10648.280000</td>\n",
              "      <td>5.0</td>\n",
              "      <td>...</td>\n",
              "      <td>5.0</td>\n",
              "      <td>Good</td>\n",
              "      <td>1494.56</td>\n",
              "      <td>30.911401</td>\n",
              "      <td>222.0</td>\n",
              "      <td>No</td>\n",
              "      <td>281.792301</td>\n",
              "      <td>77.036872</td>\n",
              "      <td>Low_spent_Large_value_payments</td>\n",
              "      <td>536.997743</td>\n",
              "    </tr>\n",
              "    <tr>\n",
              "      <th>...</th>\n",
              "      <td>...</td>\n",
              "      <td>...</td>\n",
              "      <td>...</td>\n",
              "      <td>...</td>\n",
              "      <td>...</td>\n",
              "      <td>...</td>\n",
              "      <td>...</td>\n",
              "      <td>...</td>\n",
              "      <td>...</td>\n",
              "      <td>...</td>\n",
              "      <td>...</td>\n",
              "      <td>...</td>\n",
              "      <td>...</td>\n",
              "      <td>...</td>\n",
              "      <td>...</td>\n",
              "      <td>...</td>\n",
              "      <td>...</td>\n",
              "      <td>...</td>\n",
              "      <td>...</td>\n",
              "      <td>...</td>\n",
              "      <td>...</td>\n",
              "    </tr>\n",
              "    <tr>\n",
              "      <th>19995</th>\n",
              "      <td>126990</td>\n",
              "      <td>43904</td>\n",
              "      <td>1</td>\n",
              "      <td>Wayneo</td>\n",
              "      <td>42.0</td>\n",
              "      <td>448192628.0</td>\n",
              "      <td>Scientist</td>\n",
              "      <td>37760.220</td>\n",
              "      <td>3393.685000</td>\n",
              "      <td>3.0</td>\n",
              "      <td>...</td>\n",
              "      <td>3.0</td>\n",
              "      <td>Good</td>\n",
              "      <td>821.10</td>\n",
              "      <td>23.938159</td>\n",
              "      <td>194.0</td>\n",
              "      <td>No</td>\n",
              "      <td>88.485663</td>\n",
              "      <td>37.562828</td>\n",
              "      <td>High_spent_Medium_value_payments</td>\n",
              "      <td>426.575752</td>\n",
              "    </tr>\n",
              "    <tr>\n",
              "      <th>19996</th>\n",
              "      <td>128347</td>\n",
              "      <td>8248</td>\n",
              "      <td>2</td>\n",
              "      <td>Daria Sito-Sucicd</td>\n",
              "      <td>32.0</td>\n",
              "      <td>563291145.0</td>\n",
              "      <td>Mechanic</td>\n",
              "      <td>29818.780</td>\n",
              "      <td>2257.898333</td>\n",
              "      <td>4.0</td>\n",
              "      <td>...</td>\n",
              "      <td>4.0</td>\n",
              "      <td>Good</td>\n",
              "      <td>702.20</td>\n",
              "      <td>30.990148</td>\n",
              "      <td>376.0</td>\n",
              "      <td>No</td>\n",
              "      <td>45.977299</td>\n",
              "      <td>27.931177</td>\n",
              "      <td>High_spent_Small_value_payments</td>\n",
              "      <td>298.961882</td>\n",
              "    </tr>\n",
              "    <tr>\n",
              "      <th>19997</th>\n",
              "      <td>88941</td>\n",
              "      <td>19882</td>\n",
              "      <td>4</td>\n",
              "      <td>Laurend</td>\n",
              "      <td>43.0</td>\n",
              "      <td>451289406.0</td>\n",
              "      <td>Lawyer</td>\n",
              "      <td>34744.150</td>\n",
              "      <td>2784.345833</td>\n",
              "      <td>3.0</td>\n",
              "      <td>...</td>\n",
              "      <td>3.0</td>\n",
              "      <td>Good</td>\n",
              "      <td>219.59</td>\n",
              "      <td>36.911828</td>\n",
              "      <td>398.0</td>\n",
              "      <td>No</td>\n",
              "      <td>52.218894</td>\n",
              "      <td>67.741940</td>\n",
              "      <td>Low_spent_Medium_value_payments</td>\n",
              "      <td>336.382928</td>\n",
              "    </tr>\n",
              "    <tr>\n",
              "      <th>19998</th>\n",
              "      <td>89599</td>\n",
              "      <td>50969</td>\n",
              "      <td>2</td>\n",
              "      <td>Nickx</td>\n",
              "      <td>35.0</td>\n",
              "      <td>994774680.0</td>\n",
              "      <td>Media_Manager</td>\n",
              "      <td>60271.920</td>\n",
              "      <td>4782.660000</td>\n",
              "      <td>6.0</td>\n",
              "      <td>...</td>\n",
              "      <td>11.0</td>\n",
              "      <td>Bad</td>\n",
              "      <td>4546.95</td>\n",
              "      <td>32.122843</td>\n",
              "      <td>96.0</td>\n",
              "      <td>Yes</td>\n",
              "      <td>203.605795</td>\n",
              "      <td>36.776460</td>\n",
              "      <td>High_spent_Medium_value_payments</td>\n",
              "      <td>381.365614</td>\n",
              "    </tr>\n",
              "    <tr>\n",
              "      <th>19999</th>\n",
              "      <td>107146</td>\n",
              "      <td>40554</td>\n",
              "      <td>5</td>\n",
              "      <td>Koky</td>\n",
              "      <td>52.0</td>\n",
              "      <td>203003994.0</td>\n",
              "      <td>Writer</td>\n",
              "      <td>79300.220</td>\n",
              "      <td>6354.351667</td>\n",
              "      <td>1.0</td>\n",
              "      <td>...</td>\n",
              "      <td>1.0</td>\n",
              "      <td>Good</td>\n",
              "      <td>284.52</td>\n",
              "      <td>29.720272</td>\n",
              "      <td>278.0</td>\n",
              "      <td>NM</td>\n",
              "      <td>179.304812</td>\n",
              "      <td>59.477685</td>\n",
              "      <td>Low_spent_Large_value_payments</td>\n",
              "      <td>474.759497</td>\n",
              "    </tr>\n",
              "  </tbody>\n",
              "</table>\n",
              "<p>20000 rows × 27 columns</p>\n",
              "</div>\n",
              "      <button class=\"colab-df-convert\" onclick=\"convertToInteractive('df-f0129089-cc21-4395-88ab-89fa25db819d')\"\n",
              "              title=\"Convert this dataframe to an interactive table.\"\n",
              "              style=\"display:none;\">\n",
              "        \n",
              "  <svg xmlns=\"http://www.w3.org/2000/svg\" height=\"24px\"viewBox=\"0 0 24 24\"\n",
              "       width=\"24px\">\n",
              "    <path d=\"M0 0h24v24H0V0z\" fill=\"none\"/>\n",
              "    <path d=\"M18.56 5.44l.94 2.06.94-2.06 2.06-.94-2.06-.94-.94-2.06-.94 2.06-2.06.94zm-11 1L8.5 8.5l.94-2.06 2.06-.94-2.06-.94L8.5 2.5l-.94 2.06-2.06.94zm10 10l.94 2.06.94-2.06 2.06-.94-2.06-.94-.94-2.06-.94 2.06-2.06.94z\"/><path d=\"M17.41 7.96l-1.37-1.37c-.4-.4-.92-.59-1.43-.59-.52 0-1.04.2-1.43.59L10.3 9.45l-7.72 7.72c-.78.78-.78 2.05 0 2.83L4 21.41c.39.39.9.59 1.41.59.51 0 1.02-.2 1.41-.59l7.78-7.78 2.81-2.81c.8-.78.8-2.07 0-2.86zM5.41 20L4 18.59l7.72-7.72 1.47 1.35L5.41 20z\"/>\n",
              "  </svg>\n",
              "      </button>\n",
              "      \n",
              "  <style>\n",
              "    .colab-df-container {\n",
              "      display:flex;\n",
              "      flex-wrap:wrap;\n",
              "      gap: 12px;\n",
              "    }\n",
              "\n",
              "    .colab-df-convert {\n",
              "      background-color: #E8F0FE;\n",
              "      border: none;\n",
              "      border-radius: 50%;\n",
              "      cursor: pointer;\n",
              "      display: none;\n",
              "      fill: #1967D2;\n",
              "      height: 32px;\n",
              "      padding: 0 0 0 0;\n",
              "      width: 32px;\n",
              "    }\n",
              "\n",
              "    .colab-df-convert:hover {\n",
              "      background-color: #E2EBFA;\n",
              "      box-shadow: 0px 1px 2px rgba(60, 64, 67, 0.3), 0px 1px 3px 1px rgba(60, 64, 67, 0.15);\n",
              "      fill: #174EA6;\n",
              "    }\n",
              "\n",
              "    [theme=dark] .colab-df-convert {\n",
              "      background-color: #3B4455;\n",
              "      fill: #D2E3FC;\n",
              "    }\n",
              "\n",
              "    [theme=dark] .colab-df-convert:hover {\n",
              "      background-color: #434B5C;\n",
              "      box-shadow: 0px 1px 3px 1px rgba(0, 0, 0, 0.15);\n",
              "      filter: drop-shadow(0px 1px 2px rgba(0, 0, 0, 0.3));\n",
              "      fill: #FFFFFF;\n",
              "    }\n",
              "  </style>\n",
              "\n",
              "      <script>\n",
              "        const buttonEl =\n",
              "          document.querySelector('#df-f0129089-cc21-4395-88ab-89fa25db819d button.colab-df-convert');\n",
              "        buttonEl.style.display =\n",
              "          google.colab.kernel.accessAllowed ? 'block' : 'none';\n",
              "\n",
              "        async function convertToInteractive(key) {\n",
              "          const element = document.querySelector('#df-f0129089-cc21-4395-88ab-89fa25db819d');\n",
              "          const dataTable =\n",
              "            await google.colab.kernel.invokeFunction('convertToInteractive',\n",
              "                                                     [key], {});\n",
              "          if (!dataTable) return;\n",
              "\n",
              "          const docLinkHtml = 'Like what you see? Visit the ' +\n",
              "            '<a target=\"_blank\" href=https://colab.research.google.com/notebooks/data_table.ipynb>data table notebook</a>'\n",
              "            + ' to learn more about interactive tables.';\n",
              "          element.innerHTML = '';\n",
              "          dataTable['output_type'] = 'display_data';\n",
              "          await google.colab.output.renderOutput(dataTable, element);\n",
              "          const docLink = document.createElement('div');\n",
              "          docLink.innerHTML = docLinkHtml;\n",
              "          element.appendChild(docLink);\n",
              "        }\n",
              "      </script>\n",
              "    </div>\n",
              "  </div>\n",
              "  "
            ]
          },
          "metadata": {},
          "execution_count": 335
        }
      ],
      "source": [
        "train_url = \"https://raw.githubusercontent.com/Kekon130/ML_Practica2/main/train.csv\"\n",
        "df_train = pd.read_csv(train_url)\n",
        "\n",
        "test_url = \"https://raw.githubusercontent.com/Kekon130/ML_Practica2/main/test.csv\"\n",
        "df_test = pd.read_csv(test_url)\n",
        "submission = df_test[['ID']].copy()\n",
        "#pd.set_option('display.max_columns', None)\n",
        "df_test"
      ]
    },
    {
      "cell_type": "code",
      "source": [
        "df_train.columns"
      ],
      "metadata": {
        "colab": {
          "base_uri": "https://localhost:8080/"
        },
        "id": "dOc9ozgUx5Ze",
        "outputId": "84dcbe37-1bca-4f8a-f793-bde4b93e7f54"
      },
      "execution_count": 116,
      "outputs": [
        {
          "output_type": "execute_result",
          "data": {
            "text/plain": [
              "Index(['Annual_Income', 'Num_Bank_Accounts', 'Num_Credit_Card',\n",
              "       'Interest_Rate', 'Num_of_Loan', 'Delay_from_due_date',\n",
              "       'Num_of_Delayed_Payment', 'Changed_Credit_Limit',\n",
              "       'Num_Credit_Inquiries', 'Credit_Mix', 'Outstanding_Debt',\n",
              "       'Credit_History_Age', 'Payment_of_Min_Amount', 'Payment_Behaviour',\n",
              "       'Credit_Score'],\n",
              "      dtype='object')"
            ]
          },
          "metadata": {},
          "execution_count": 116
        }
      ]
    },
    {
      "cell_type": "code",
      "source": [
        "df_train.Credit_Mix.unique()"
      ],
      "metadata": {
        "colab": {
          "base_uri": "https://localhost:8080/"
        },
        "id": "XWen-tUjyWzc",
        "outputId": "c4c41e4c-b5d2-40ff-f6d7-3e5d9c820fde"
      },
      "execution_count": 122,
      "outputs": [
        {
          "output_type": "execute_result",
          "data": {
            "text/plain": [
              "array(['Good', 'Bad', 'Standard'], dtype=object)"
            ]
          },
          "metadata": {},
          "execution_count": 122
        }
      ]
    },
    {
      "cell_type": "code",
      "source": [
        "credit_score = df_train.Credit_Score\n",
        "credit_score_ordinal = []\n",
        "for row in credit_score:\n",
        "  if row == \"Poor\":\n",
        "    credit_score_ordinal.append(0)\n",
        "  if row == \"Standard\":\n",
        "    credit_score_ordinal.append(1)\n",
        "  if row == \"Good\":\n",
        "    credit_score_ordinal.append(2)\n",
        "\n",
        "credit_mix = df_train.Credit_Mix\n",
        "credit_mix_ordinal = []\n",
        "for row in credit_mix:\n",
        "  if row == \"Bad\":\n",
        "    credit_mix_ordinal.append(0)\n",
        "  if row == \"Standard\":\n",
        "    credit_mix_ordinal.append(1)\n",
        "  if row == \"Good\":\n",
        "    credit_mix_ordinal.append(2)\n",
        "df_train.Credit_Mix = credit_mix_ordinal"
      ],
      "metadata": {
        "id": "l-piBKg4x9DN"
      },
      "execution_count": 131,
      "outputs": []
    },
    {
      "cell_type": "code",
      "source": [
        "credit_score = df_train.Payment_Behaviour\n",
        "credit_score_ordinal = []\n",
        "for row in credit_score:\n",
        "  if row == \"Low_spent_Medium_value_payments\":\n",
        "    credit_score_ordinal.append(0)\n",
        "  if row == \"Low_spent_Small_value_payments\":\n",
        "    credit_score_ordinal.append(1)\n",
        "  if row == \"Low_spent_Large_value_payments\":\n",
        "    credit_score_ordinal.append(2)\n",
        "  if row == \"High_spent_Medium_value_payments\":\n",
        "    credit_score_ordinal.append(3)\n",
        "  if row == \"High_spent_Small_value_payments\":\n",
        "    credit_score_ordinal.append(4)\n",
        "  if row == \"High_spent_Large_value_payments\":\n",
        "    credit_score_ordinal.append(5)\n",
        "df_train.Payment_Behaviour = credit_score_ordinal"
      ],
      "metadata": {
        "id": "V4yFhtG_zTsn"
      },
      "execution_count": 135,
      "outputs": []
    },
    {
      "cell_type": "code",
      "source": [
        "# Se incluyen: Credit mix\n",
        "df_train.corr()"
      ],
      "metadata": {
        "colab": {
          "base_uri": "https://localhost:8080/",
          "height": 488
        },
        "id": "wWUc0jBMytSy",
        "outputId": "9a63f7cf-194c-47fb-c763-0539ac9df5b2"
      },
      "execution_count": 136,
      "outputs": [
        {
          "output_type": "execute_result",
          "data": {
            "text/plain": [
              "                        Annual_Income  Num_Bank_Accounts  Num_Credit_Card  \\\n",
              "Annual_Income                1.000000          -0.281876        -0.218327   \n",
              "Num_Bank_Accounts           -0.281876           1.000000         0.442708   \n",
              "Num_Credit_Card             -0.218327           0.442708         1.000000   \n",
              "Interest_Rate               -0.301307           0.583717         0.498413   \n",
              "Num_of_Loan                 -0.254974           0.473781         0.418240   \n",
              "Delay_from_due_date         -0.248730           0.559269         0.480885   \n",
              "Num_of_Delayed_Payment      -0.286552           0.601690         0.424129   \n",
              "Changed_Credit_Limit        -0.175673           0.334204         0.257656   \n",
              "Num_Credit_Inquiries        -0.280101           0.518113         0.459463   \n",
              "Credit_Mix                   0.342501          -0.724096        -0.545055   \n",
              "Outstanding_Debt            -0.267304           0.506809         0.491301   \n",
              "Credit_History_Age           0.274049          -0.484647        -0.418541   \n",
              "Payment_Behaviour            0.248899          -0.077984        -0.057244   \n",
              "Credit_Score                 0.212140          -0.386351        -0.403647   \n",
              "\n",
              "                        Interest_Rate  Num_of_Loan  Delay_from_due_date  \\\n",
              "Annual_Income               -0.301307    -0.254974            -0.248730   \n",
              "Num_Bank_Accounts            0.583717     0.473781             0.559269   \n",
              "Num_Credit_Card              0.498413     0.418240             0.480885   \n",
              "Interest_Rate                1.000000     0.558328             0.588661   \n",
              "Num_of_Loan                  0.558328     1.000000             0.501312   \n",
              "Delay_from_due_date          0.588661     0.501312             1.000000   \n",
              "Num_of_Delayed_Payment       0.571920     0.473610             0.540739   \n",
              "Changed_Credit_Limit         0.371548     0.375606             0.299054   \n",
              "Num_Credit_Inquiries         0.631146     0.564324             0.539086   \n",
              "Credit_Mix                  -0.752571    -0.636945            -0.689341   \n",
              "Outstanding_Debt             0.629239     0.638042             0.572628   \n",
              "Credit_History_Age          -0.576542    -0.605599            -0.491401   \n",
              "Payment_Behaviour           -0.083962    -0.073127            -0.070646   \n",
              "Credit_Score                -0.484015    -0.355965            -0.429844   \n",
              "\n",
              "                        Num_of_Delayed_Payment  Changed_Credit_Limit  \\\n",
              "Annual_Income                        -0.286552             -0.175673   \n",
              "Num_Bank_Accounts                     0.601690              0.334204   \n",
              "Num_Credit_Card                       0.424129              0.257656   \n",
              "Interest_Rate                         0.571920              0.371548   \n",
              "Num_of_Loan                           0.473610              0.375606   \n",
              "Delay_from_due_date                   0.540739              0.299054   \n",
              "Num_of_Delayed_Payment                1.000000              0.331552   \n",
              "Changed_Credit_Limit                  0.331552              1.000000   \n",
              "Num_Credit_Inquiries                  0.499949              0.383502   \n",
              "Credit_Mix                           -0.758182             -0.433995   \n",
              "Outstanding_Debt                      0.504207              0.465318   \n",
              "Credit_History_Age                   -0.481859             -0.428852   \n",
              "Payment_Behaviour                    -0.076142             -0.041003   \n",
              "Credit_Score                         -0.371299             -0.170701   \n",
              "\n",
              "                        Num_Credit_Inquiries  Credit_Mix  Outstanding_Debt  \\\n",
              "Annual_Income                      -0.280101    0.342501         -0.267304   \n",
              "Num_Bank_Accounts                   0.518113   -0.724096          0.506809   \n",
              "Num_Credit_Card                     0.459463   -0.545055          0.491301   \n",
              "Interest_Rate                       0.631146   -0.752571          0.629239   \n",
              "Num_of_Loan                         0.564324   -0.636945          0.638042   \n",
              "Delay_from_due_date                 0.539086   -0.689341          0.572628   \n",
              "Num_of_Delayed_Payment              0.499949   -0.758182          0.504207   \n",
              "Changed_Credit_Limit                0.383502   -0.433995          0.465318   \n",
              "Num_Credit_Inquiries                1.000000   -0.662422          0.595353   \n",
              "Credit_Mix                         -0.662422    1.000000         -0.687270   \n",
              "Outstanding_Debt                    0.595353   -0.687270          1.000000   \n",
              "Credit_History_Age                 -0.609310    0.640469         -0.628835   \n",
              "Payment_Behaviour                  -0.080260    0.089606         -0.075136   \n",
              "Credit_Score                       -0.434142    0.497059         -0.384448   \n",
              "\n",
              "                        Credit_History_Age  Payment_Behaviour  Credit_Score  \n",
              "Annual_Income                     0.274049           0.248899      0.212140  \n",
              "Num_Bank_Accounts                -0.484647          -0.077984     -0.386351  \n",
              "Num_Credit_Card                  -0.418541          -0.057244     -0.403647  \n",
              "Interest_Rate                    -0.576542          -0.083962     -0.484015  \n",
              "Num_of_Loan                      -0.605599          -0.073127     -0.355965  \n",
              "Delay_from_due_date              -0.491401          -0.070646     -0.429844  \n",
              "Num_of_Delayed_Payment           -0.481859          -0.076142     -0.371299  \n",
              "Changed_Credit_Limit             -0.428852          -0.041003     -0.170701  \n",
              "Num_Credit_Inquiries             -0.609310          -0.080260     -0.434142  \n",
              "Credit_Mix                        0.640469           0.089606      0.497059  \n",
              "Outstanding_Debt                 -0.628835          -0.075136     -0.384448  \n",
              "Credit_History_Age                1.000000           0.075088      0.387512  \n",
              "Payment_Behaviour                 0.075088           1.000000      0.095266  \n",
              "Credit_Score                      0.387512           0.095266      1.000000  "
            ],
            "text/html": [
              "\n",
              "  <div id=\"df-10bcca12-8cac-4385-9084-1825299de176\">\n",
              "    <div class=\"colab-df-container\">\n",
              "      <div>\n",
              "<style scoped>\n",
              "    .dataframe tbody tr th:only-of-type {\n",
              "        vertical-align: middle;\n",
              "    }\n",
              "\n",
              "    .dataframe tbody tr th {\n",
              "        vertical-align: top;\n",
              "    }\n",
              "\n",
              "    .dataframe thead th {\n",
              "        text-align: right;\n",
              "    }\n",
              "</style>\n",
              "<table border=\"1\" class=\"dataframe\">\n",
              "  <thead>\n",
              "    <tr style=\"text-align: right;\">\n",
              "      <th></th>\n",
              "      <th>Annual_Income</th>\n",
              "      <th>Num_Bank_Accounts</th>\n",
              "      <th>Num_Credit_Card</th>\n",
              "      <th>Interest_Rate</th>\n",
              "      <th>Num_of_Loan</th>\n",
              "      <th>Delay_from_due_date</th>\n",
              "      <th>Num_of_Delayed_Payment</th>\n",
              "      <th>Changed_Credit_Limit</th>\n",
              "      <th>Num_Credit_Inquiries</th>\n",
              "      <th>Credit_Mix</th>\n",
              "      <th>Outstanding_Debt</th>\n",
              "      <th>Credit_History_Age</th>\n",
              "      <th>Payment_Behaviour</th>\n",
              "      <th>Credit_Score</th>\n",
              "    </tr>\n",
              "  </thead>\n",
              "  <tbody>\n",
              "    <tr>\n",
              "      <th>Annual_Income</th>\n",
              "      <td>1.000000</td>\n",
              "      <td>-0.281876</td>\n",
              "      <td>-0.218327</td>\n",
              "      <td>-0.301307</td>\n",
              "      <td>-0.254974</td>\n",
              "      <td>-0.248730</td>\n",
              "      <td>-0.286552</td>\n",
              "      <td>-0.175673</td>\n",
              "      <td>-0.280101</td>\n",
              "      <td>0.342501</td>\n",
              "      <td>-0.267304</td>\n",
              "      <td>0.274049</td>\n",
              "      <td>0.248899</td>\n",
              "      <td>0.212140</td>\n",
              "    </tr>\n",
              "    <tr>\n",
              "      <th>Num_Bank_Accounts</th>\n",
              "      <td>-0.281876</td>\n",
              "      <td>1.000000</td>\n",
              "      <td>0.442708</td>\n",
              "      <td>0.583717</td>\n",
              "      <td>0.473781</td>\n",
              "      <td>0.559269</td>\n",
              "      <td>0.601690</td>\n",
              "      <td>0.334204</td>\n",
              "      <td>0.518113</td>\n",
              "      <td>-0.724096</td>\n",
              "      <td>0.506809</td>\n",
              "      <td>-0.484647</td>\n",
              "      <td>-0.077984</td>\n",
              "      <td>-0.386351</td>\n",
              "    </tr>\n",
              "    <tr>\n",
              "      <th>Num_Credit_Card</th>\n",
              "      <td>-0.218327</td>\n",
              "      <td>0.442708</td>\n",
              "      <td>1.000000</td>\n",
              "      <td>0.498413</td>\n",
              "      <td>0.418240</td>\n",
              "      <td>0.480885</td>\n",
              "      <td>0.424129</td>\n",
              "      <td>0.257656</td>\n",
              "      <td>0.459463</td>\n",
              "      <td>-0.545055</td>\n",
              "      <td>0.491301</td>\n",
              "      <td>-0.418541</td>\n",
              "      <td>-0.057244</td>\n",
              "      <td>-0.403647</td>\n",
              "    </tr>\n",
              "    <tr>\n",
              "      <th>Interest_Rate</th>\n",
              "      <td>-0.301307</td>\n",
              "      <td>0.583717</td>\n",
              "      <td>0.498413</td>\n",
              "      <td>1.000000</td>\n",
              "      <td>0.558328</td>\n",
              "      <td>0.588661</td>\n",
              "      <td>0.571920</td>\n",
              "      <td>0.371548</td>\n",
              "      <td>0.631146</td>\n",
              "      <td>-0.752571</td>\n",
              "      <td>0.629239</td>\n",
              "      <td>-0.576542</td>\n",
              "      <td>-0.083962</td>\n",
              "      <td>-0.484015</td>\n",
              "    </tr>\n",
              "    <tr>\n",
              "      <th>Num_of_Loan</th>\n",
              "      <td>-0.254974</td>\n",
              "      <td>0.473781</td>\n",
              "      <td>0.418240</td>\n",
              "      <td>0.558328</td>\n",
              "      <td>1.000000</td>\n",
              "      <td>0.501312</td>\n",
              "      <td>0.473610</td>\n",
              "      <td>0.375606</td>\n",
              "      <td>0.564324</td>\n",
              "      <td>-0.636945</td>\n",
              "      <td>0.638042</td>\n",
              "      <td>-0.605599</td>\n",
              "      <td>-0.073127</td>\n",
              "      <td>-0.355965</td>\n",
              "    </tr>\n",
              "    <tr>\n",
              "      <th>Delay_from_due_date</th>\n",
              "      <td>-0.248730</td>\n",
              "      <td>0.559269</td>\n",
              "      <td>0.480885</td>\n",
              "      <td>0.588661</td>\n",
              "      <td>0.501312</td>\n",
              "      <td>1.000000</td>\n",
              "      <td>0.540739</td>\n",
              "      <td>0.299054</td>\n",
              "      <td>0.539086</td>\n",
              "      <td>-0.689341</td>\n",
              "      <td>0.572628</td>\n",
              "      <td>-0.491401</td>\n",
              "      <td>-0.070646</td>\n",
              "      <td>-0.429844</td>\n",
              "    </tr>\n",
              "    <tr>\n",
              "      <th>Num_of_Delayed_Payment</th>\n",
              "      <td>-0.286552</td>\n",
              "      <td>0.601690</td>\n",
              "      <td>0.424129</td>\n",
              "      <td>0.571920</td>\n",
              "      <td>0.473610</td>\n",
              "      <td>0.540739</td>\n",
              "      <td>1.000000</td>\n",
              "      <td>0.331552</td>\n",
              "      <td>0.499949</td>\n",
              "      <td>-0.758182</td>\n",
              "      <td>0.504207</td>\n",
              "      <td>-0.481859</td>\n",
              "      <td>-0.076142</td>\n",
              "      <td>-0.371299</td>\n",
              "    </tr>\n",
              "    <tr>\n",
              "      <th>Changed_Credit_Limit</th>\n",
              "      <td>-0.175673</td>\n",
              "      <td>0.334204</td>\n",
              "      <td>0.257656</td>\n",
              "      <td>0.371548</td>\n",
              "      <td>0.375606</td>\n",
              "      <td>0.299054</td>\n",
              "      <td>0.331552</td>\n",
              "      <td>1.000000</td>\n",
              "      <td>0.383502</td>\n",
              "      <td>-0.433995</td>\n",
              "      <td>0.465318</td>\n",
              "      <td>-0.428852</td>\n",
              "      <td>-0.041003</td>\n",
              "      <td>-0.170701</td>\n",
              "    </tr>\n",
              "    <tr>\n",
              "      <th>Num_Credit_Inquiries</th>\n",
              "      <td>-0.280101</td>\n",
              "      <td>0.518113</td>\n",
              "      <td>0.459463</td>\n",
              "      <td>0.631146</td>\n",
              "      <td>0.564324</td>\n",
              "      <td>0.539086</td>\n",
              "      <td>0.499949</td>\n",
              "      <td>0.383502</td>\n",
              "      <td>1.000000</td>\n",
              "      <td>-0.662422</td>\n",
              "      <td>0.595353</td>\n",
              "      <td>-0.609310</td>\n",
              "      <td>-0.080260</td>\n",
              "      <td>-0.434142</td>\n",
              "    </tr>\n",
              "    <tr>\n",
              "      <th>Credit_Mix</th>\n",
              "      <td>0.342501</td>\n",
              "      <td>-0.724096</td>\n",
              "      <td>-0.545055</td>\n",
              "      <td>-0.752571</td>\n",
              "      <td>-0.636945</td>\n",
              "      <td>-0.689341</td>\n",
              "      <td>-0.758182</td>\n",
              "      <td>-0.433995</td>\n",
              "      <td>-0.662422</td>\n",
              "      <td>1.000000</td>\n",
              "      <td>-0.687270</td>\n",
              "      <td>0.640469</td>\n",
              "      <td>0.089606</td>\n",
              "      <td>0.497059</td>\n",
              "    </tr>\n",
              "    <tr>\n",
              "      <th>Outstanding_Debt</th>\n",
              "      <td>-0.267304</td>\n",
              "      <td>0.506809</td>\n",
              "      <td>0.491301</td>\n",
              "      <td>0.629239</td>\n",
              "      <td>0.638042</td>\n",
              "      <td>0.572628</td>\n",
              "      <td>0.504207</td>\n",
              "      <td>0.465318</td>\n",
              "      <td>0.595353</td>\n",
              "      <td>-0.687270</td>\n",
              "      <td>1.000000</td>\n",
              "      <td>-0.628835</td>\n",
              "      <td>-0.075136</td>\n",
              "      <td>-0.384448</td>\n",
              "    </tr>\n",
              "    <tr>\n",
              "      <th>Credit_History_Age</th>\n",
              "      <td>0.274049</td>\n",
              "      <td>-0.484647</td>\n",
              "      <td>-0.418541</td>\n",
              "      <td>-0.576542</td>\n",
              "      <td>-0.605599</td>\n",
              "      <td>-0.491401</td>\n",
              "      <td>-0.481859</td>\n",
              "      <td>-0.428852</td>\n",
              "      <td>-0.609310</td>\n",
              "      <td>0.640469</td>\n",
              "      <td>-0.628835</td>\n",
              "      <td>1.000000</td>\n",
              "      <td>0.075088</td>\n",
              "      <td>0.387512</td>\n",
              "    </tr>\n",
              "    <tr>\n",
              "      <th>Payment_Behaviour</th>\n",
              "      <td>0.248899</td>\n",
              "      <td>-0.077984</td>\n",
              "      <td>-0.057244</td>\n",
              "      <td>-0.083962</td>\n",
              "      <td>-0.073127</td>\n",
              "      <td>-0.070646</td>\n",
              "      <td>-0.076142</td>\n",
              "      <td>-0.041003</td>\n",
              "      <td>-0.080260</td>\n",
              "      <td>0.089606</td>\n",
              "      <td>-0.075136</td>\n",
              "      <td>0.075088</td>\n",
              "      <td>1.000000</td>\n",
              "      <td>0.095266</td>\n",
              "    </tr>\n",
              "    <tr>\n",
              "      <th>Credit_Score</th>\n",
              "      <td>0.212140</td>\n",
              "      <td>-0.386351</td>\n",
              "      <td>-0.403647</td>\n",
              "      <td>-0.484015</td>\n",
              "      <td>-0.355965</td>\n",
              "      <td>-0.429844</td>\n",
              "      <td>-0.371299</td>\n",
              "      <td>-0.170701</td>\n",
              "      <td>-0.434142</td>\n",
              "      <td>0.497059</td>\n",
              "      <td>-0.384448</td>\n",
              "      <td>0.387512</td>\n",
              "      <td>0.095266</td>\n",
              "      <td>1.000000</td>\n",
              "    </tr>\n",
              "  </tbody>\n",
              "</table>\n",
              "</div>\n",
              "      <button class=\"colab-df-convert\" onclick=\"convertToInteractive('df-10bcca12-8cac-4385-9084-1825299de176')\"\n",
              "              title=\"Convert this dataframe to an interactive table.\"\n",
              "              style=\"display:none;\">\n",
              "        \n",
              "  <svg xmlns=\"http://www.w3.org/2000/svg\" height=\"24px\"viewBox=\"0 0 24 24\"\n",
              "       width=\"24px\">\n",
              "    <path d=\"M0 0h24v24H0V0z\" fill=\"none\"/>\n",
              "    <path d=\"M18.56 5.44l.94 2.06.94-2.06 2.06-.94-2.06-.94-.94-2.06-.94 2.06-2.06.94zm-11 1L8.5 8.5l.94-2.06 2.06-.94-2.06-.94L8.5 2.5l-.94 2.06-2.06.94zm10 10l.94 2.06.94-2.06 2.06-.94-2.06-.94-.94-2.06-.94 2.06-2.06.94z\"/><path d=\"M17.41 7.96l-1.37-1.37c-.4-.4-.92-.59-1.43-.59-.52 0-1.04.2-1.43.59L10.3 9.45l-7.72 7.72c-.78.78-.78 2.05 0 2.83L4 21.41c.39.39.9.59 1.41.59.51 0 1.02-.2 1.41-.59l7.78-7.78 2.81-2.81c.8-.78.8-2.07 0-2.86zM5.41 20L4 18.59l7.72-7.72 1.47 1.35L5.41 20z\"/>\n",
              "  </svg>\n",
              "      </button>\n",
              "      \n",
              "  <style>\n",
              "    .colab-df-container {\n",
              "      display:flex;\n",
              "      flex-wrap:wrap;\n",
              "      gap: 12px;\n",
              "    }\n",
              "\n",
              "    .colab-df-convert {\n",
              "      background-color: #E8F0FE;\n",
              "      border: none;\n",
              "      border-radius: 50%;\n",
              "      cursor: pointer;\n",
              "      display: none;\n",
              "      fill: #1967D2;\n",
              "      height: 32px;\n",
              "      padding: 0 0 0 0;\n",
              "      width: 32px;\n",
              "    }\n",
              "\n",
              "    .colab-df-convert:hover {\n",
              "      background-color: #E2EBFA;\n",
              "      box-shadow: 0px 1px 2px rgba(60, 64, 67, 0.3), 0px 1px 3px 1px rgba(60, 64, 67, 0.15);\n",
              "      fill: #174EA6;\n",
              "    }\n",
              "\n",
              "    [theme=dark] .colab-df-convert {\n",
              "      background-color: #3B4455;\n",
              "      fill: #D2E3FC;\n",
              "    }\n",
              "\n",
              "    [theme=dark] .colab-df-convert:hover {\n",
              "      background-color: #434B5C;\n",
              "      box-shadow: 0px 1px 3px 1px rgba(0, 0, 0, 0.15);\n",
              "      filter: drop-shadow(0px 1px 2px rgba(0, 0, 0, 0.3));\n",
              "      fill: #FFFFFF;\n",
              "    }\n",
              "  </style>\n",
              "\n",
              "      <script>\n",
              "        const buttonEl =\n",
              "          document.querySelector('#df-10bcca12-8cac-4385-9084-1825299de176 button.colab-df-convert');\n",
              "        buttonEl.style.display =\n",
              "          google.colab.kernel.accessAllowed ? 'block' : 'none';\n",
              "\n",
              "        async function convertToInteractive(key) {\n",
              "          const element = document.querySelector('#df-10bcca12-8cac-4385-9084-1825299de176');\n",
              "          const dataTable =\n",
              "            await google.colab.kernel.invokeFunction('convertToInteractive',\n",
              "                                                     [key], {});\n",
              "          if (!dataTable) return;\n",
              "\n",
              "          const docLinkHtml = 'Like what you see? Visit the ' +\n",
              "            '<a target=\"_blank\" href=https://colab.research.google.com/notebooks/data_table.ipynb>data table notebook</a>'\n",
              "            + ' to learn more about interactive tables.';\n",
              "          element.innerHTML = '';\n",
              "          dataTable['output_type'] = 'display_data';\n",
              "          await google.colab.output.renderOutput(dataTable, element);\n",
              "          const docLink = document.createElement('div');\n",
              "          docLink.innerHTML = docLinkHtml;\n",
              "          element.appendChild(docLink);\n",
              "        }\n",
              "      </script>\n",
              "    </div>\n",
              "  </div>\n",
              "  "
            ]
          },
          "metadata": {},
          "execution_count": 136
        }
      ]
    },
    {
      "cell_type": "markdown",
      "metadata": {
        "id": "niUmVXcaIByz"
      },
      "source": [
        "\n",
        "## Analizando las columnas"
      ]
    },
    {
      "cell_type": "code",
      "execution_count": null,
      "metadata": {
        "id": "tY8-XDjKemn5"
      },
      "outputs": [],
      "source": [
        "# Customer ID. \n",
        "# Esta se deja tal cual y no se toca, la necesitamos"
      ]
    },
    {
      "cell_type": "code",
      "execution_count": null,
      "metadata": {
        "id": "wOnLAYLxRXXq"
      },
      "outputs": [],
      "source": [
        "def transformar_valores(columna, decimal):\n",
        "  for index, row in df_train.iterrows():\n",
        "    df_train.loc[index, columna] = round(df_train.loc[index, columna], decimal)\n",
        "    \n",
        "'''\n",
        "transformar_valores(\"Annual_Income\", -4)\n",
        "transformar_valores(\"Monthly_Inhand_Salary\", -3)\n",
        "transformar_valores(\"Changed_Credit_Limit\", -1)\n",
        "transformar_valores(\"Outstanding_Debt\", -2)\n",
        "transformar_valores(\"Credit_Utilization_Ratio\", 1)\n",
        "transformar_valores(\"Total_EMI_per_month\", -1)\n",
        "transformar_valores(\"Amount_invested_monthly\", -1)\n",
        "transformar_valores(\"Monthly_Balance\", -2)\n",
        "'''"
      ]
    },
    {
      "cell_type": "code",
      "execution_count": null,
      "metadata": {
        "colab": {
          "base_uri": "https://localhost:8080/",
          "height": 279
        },
        "id": "oljVEFwAexgk",
        "outputId": "a4272384-3150-4983-cb7f-3d3615ce2c07"
      },
      "outputs": [
        {
          "data": {
            "image/png": "[encoded data removed]",
            "text/plain": [
              "<Figure size 432x288 with 1 Axes>"
            ]
          },
          "metadata": {},
          "output_type": "display_data"
        }
      ],
      "source": [
        "# Month\n",
        "# Representa el mes del año en el que se actualizó la información\n",
        "\n",
        "# Podemos ver cómo el mes no influye casi nada, los valores están prácticamente igual repartidos \n",
        "plot = pd.crosstab(index=df_train['Month'],\n",
        "            columns=df_train[\"Credit_Score\"]\n",
        "                  ).apply(lambda r: r/r.sum() *100,\n",
        "                          axis=0).plot(kind='bar', stacked=True, color=['#dede00', '#e41a1c', '#999999'])\n"
      ]
    },
    {
      "cell_type": "code",
      "execution_count": null,
      "metadata": {
        "id": "cZJSqEdBjTL-"
      },
      "outputs": [],
      "source": [
        "# Name\n",
        "# Esta variable la vamos a borrar, ya que tiene bastantes menos valores que el Customer_ID y ello puede dar problemas para el tratamiento posterior. Además no nos aporta nada."
      ]
    },
    {
      "cell_type": "code",
      "execution_count": null,
      "metadata": {
        "colab": {
          "base_uri": "https://localhost:8080/",
          "height": 292
        },
        "id": "2c1_aaXdjiPb",
        "outputId": "ff93267a-004d-411d-fe97-4a9d85680812"
      },
      "outputs": [
        {
          "data": {
            "image/png": "[encoded data removed]",
            "text/plain": [
              "<Figure size 432x288 with 1 Axes>"
            ]
          },
          "metadata": {},
          "output_type": "display_data"
        }
      ],
      "source": [
        "# Age\n",
        "# Edad -> Clasificar en tres grupos (va desde los 14 años hasta los 59)        juventud (14 - 26)           adultez (27 - 40)          otro (41 - 59)\n",
        "\n",
        "# Vemos la realcion de edad con la bariable objetivosss\n",
        "\n",
        "plot = pd.crosstab(index=df_train['Age'],\n",
        "            columns=df_train[\"Credit_Score\"]\n",
        "                  ).apply(lambda r: r/r.sum() *100,\n",
        "                          axis=0).plot(kind='bar', stacked=True, color=['#dede00', '#e41a1c', '#999999'])\n",
        "\n",
        "\n",
        "# Malos: 17\n",
        "# Estándar: 46\n",
        "# Bueno: "
      ]
    },
    {
      "cell_type": "code",
      "execution_count": null,
      "metadata": {
        "colab": {
          "base_uri": "https://localhost:8080/"
        },
        "id": "pL-Q34A0jy9D",
        "outputId": "dc9fb5b4-44a3-4b21-ff40-b82fbeac4d6b"
      },
      "outputs": [
        {
          "data": {
            "text/plain": [
              "12500"
            ]
          },
          "execution_count": 100,
          "metadata": {},
          "output_type": "execute_result"
        }
      ],
      "source": [
        "# SNN\n",
        "df_train.Customer_ID.nunique()\n",
        "df_train.SSN.nunique()                                  # La seguridad social la vamos a borrar entonces\n",
        "\n",
        "# Ambos devuelven tienen el mismo numero, vamos, que cada uno va ligado a un mismo cliente."
      ]
    },
    {
      "cell_type": "code",
      "execution_count": null,
      "metadata": {
        "colab": {
          "base_uri": "https://localhost:8080/",
          "height": 348
        },
        "id": "hiB91SyUkJy0",
        "outputId": "2f95d3ce-73f1-4ed0-cb73-67bebc2e6432"
      },
      "outputs": [
        {
          "data": {
            "image/png": "[encoded data removed]",
            "text/plain": [
              "<Figure size 432x288 with 1 Axes>"
            ]
          },
          "metadata": {},
          "output_type": "display_data"
        }
      ],
      "source": [
        "# Occupation\n",
        "output = pd.crosstab(df_train[\"Credit_Score\"], df_train[\"Occupation\"])\n",
        "output\n",
        "\n",
        "plot = pd.crosstab(index=df_train['Occupation'],\n",
        "            columns=df_train[\"Credit_Score\"]\n",
        "                  ).apply(lambda r: r/r.sum() *100,\n",
        "                          axis=0).plot(kind='bar', stacked=True, color=['#dede00', '#e41a1c', '#999999'])\n",
        "\n",
        "# Es bastante estable en todos los campos "
      ]
    },
    {
      "cell_type": "code",
      "execution_count": null,
      "metadata": {
        "colab": {
          "base_uri": "https://localhost:8080/",
          "height": 317
        },
        "id": "kolvVtghm4Vh",
        "outputId": "6d74877e-0092-44a0-f504-5583262d731c"
      },
      "outputs": [
        {
          "data": {
            "image/png": "[encoded data removed]",
            "text/plain": [
              "<Figure size 432x288 with 1 Axes>"
            ]
          },
          "metadata": {},
          "output_type": "display_data"
        }
      ],
      "source": [
        "plot = pd.crosstab(index=df_train['Annual_Income'],\n",
        "            columns=df_train[\"Credit_Score\"]\n",
        "                  ).apply(lambda r: r/r.sum() *100,\n",
        "                          axis=0).plot(kind='bar', stacked=True, color=['#dede00', '#e41a1c', '#999999'])\n",
        "\n",
        "# Podemos observar cosas importantes y obvias, como quien tiene más dinero tiene un historial crediticio mejor y cómo el que gana menos lo tiene bastante peor. \n",
        "# A parte del tratamiento de resondear a los 10K no se me ocurre otro\n",
        "# 0-50.000 50.000-90.000 90.000 - ..."
      ]
    },
    {
      "cell_type": "code",
      "execution_count": null,
      "metadata": {
        "colab": {
          "base_uri": "https://localhost:8080/",
          "height": 311
        },
        "id": "BqEx31d8n2Tl",
        "outputId": "7f02444b-6c58-444d-a936-bcf9493e7306"
      },
      "outputs": [
        {
          "data": {
            "image/png": "[encoded data removed]",
            "text/plain": [
              "<Figure size 432x288 with 1 Axes>"
            ]
          },
          "metadata": {},
          "output_type": "display_data"
        }
      ],
      "source": [
        "# Monthly_Inhand_Salary\n",
        "# Aquí haremos lo mismo que en los ingresos anuales, pero redonderaremos a 1000 \n",
        "plot = pd.crosstab(index=df_train['Monthly_Inhand_Salary'],\n",
        "            columns=df_train[\"Credit_Score\"]\n",
        "                  ).apply(lambda r: r/r.sum() *100,\n",
        "                          axis=0).plot(kind='bar', stacked=True, color=['#dede00', '#e41a1c', '#999999'])\n",
        "\n",
        "# Los resultados son muy similares al anterior\n",
        "# 0-3 bajo 4-8 medio 8- ... mucho"
      ]
    },
    {
      "cell_type": "code",
      "execution_count": null,
      "metadata": {
        "colab": {
          "base_uri": "https://localhost:8080/",
          "height": 292
        },
        "id": "6vvG7V0voP4R",
        "outputId": "b08d0d8b-21f1-42cf-957b-cba52b9b0df8"
      },
      "outputs": [
        {
          "data": {
            "image/png": "[encoded data removed]",
            "text/plain": [
              "<Figure size 432x288 with 1 Axes>"
            ]
          },
          "metadata": {},
          "output_type": "display_data"
        }
      ],
      "source": [
        "# Num_Bank_Accounts\n",
        "\n",
        "plot = pd.crosstab(index=df_train['Num_Bank_Accounts'],\n",
        "            columns=df_train[\"Credit_Score\"]\n",
        "                  ).apply(lambda r: r/r.sum() *100,\n",
        "                          axis=0).plot(kind='bar', stacked=True, color=['#dede00', '#e41a1c', '#999999'])\n",
        "\n",
        "# Podemos observar que hay una relación super alta entre tener más bancarias y un Credit_Score peor. Los valores se distribuyen uniformemente entre 0-2, 3-5, 6-8 y 9-10    (Por qué hay 0?)"
      ]
    },
    {
      "cell_type": "code",
      "execution_count": null,
      "metadata": {
        "colab": {
          "base_uri": "https://localhost:8080/",
          "height": 295
        },
        "id": "uJTbtnUFo1TN",
        "outputId": "c55a115d-a930-422b-9afb-eb123de4ce9f"
      },
      "outputs": [
        {
          "data": {
            "image/png": "[encoded data removed]",
            "text/plain": [
              "<Figure size 432x288 with 1 Axes>"
            ]
          },
          "metadata": {},
          "output_type": "display_data"
        }
      ],
      "source": [
        "# Num_Credit_Card\n",
        "\n",
        "plot = pd.crosstab(index=df_train['Num_Credit_Card'],\n",
        "            columns=df_train[\"Credit_Score\"]\n",
        "                  ).apply(lambda r: r/r.sum() *100,\n",
        "                          axis=0).plot(kind='bar', stacked=True, color=['#dede00', '#e41a1c', '#999999'])\n",
        "\n",
        "# La misma cosa, sólo que ahora se distribuye de otra forma, 0-2, 3-4, 5-7 y 8-10"
      ]
    },
    {
      "cell_type": "code",
      "execution_count": null,
      "metadata": {
        "colab": {
          "base_uri": "https://localhost:8080/",
          "height": 292
        },
        "id": "RccdyL0HpPyy",
        "outputId": "0de65206-d2d3-43e9-9b4d-386871c0df76"
      },
      "outputs": [
        {
          "data": {
            "image/png": "[encoded data removed]",
            "text/plain": [
              "<Figure size 432x288 with 1 Axes>"
            ]
          },
          "metadata": {},
          "output_type": "display_data"
        }
      ],
      "source": [
        "# Interest_Rate\n",
        "\n",
        "plot = pd.crosstab(index=df_train['Interest_Rate'],\n",
        "            columns=df_train[\"Credit_Score\"]\n",
        "                  ).apply(lambda r: r/r.sum() *100,\n",
        "                          axis=0).plot(kind='bar', stacked=True, color=['#dede00', '#e41a1c', '#999999'])\n",
        "\n",
        "# Más interés, más pobre 5 grupos claros. 1-4 5-12 13-14 15-20 21-34"
      ]
    },
    {
      "cell_type": "code",
      "execution_count": null,
      "metadata": {
        "colab": {
          "base_uri": "https://localhost:8080/",
          "height": 286
        },
        "id": "V3669VN0p7Mm",
        "outputId": "8fbe994a-35ed-4508-859c-277c33f7104f"
      },
      "outputs": [
        {
          "data": {
            "image/png": "[encoded data removed]",
            "text/plain": [
              "<Figure size 432x288 with 1 Axes>"
            ]
          },
          "metadata": {},
          "output_type": "display_data"
        }
      ],
      "source": [
        "# Num_of_Loan\n",
        "plot = pd.crosstab(index=df_train['Num_of_Loan'],\n",
        "            columns=df_train[\"Credit_Score\"]\n",
        "                  ).apply(lambda r: r/r.sum() *100,\n",
        "                          axis=0).plot(kind='bar', stacked=True, color=['#dede00', '#e41a1c', '#999999'])\n",
        "\n",
        "# Más préstamos activos, más pobre. En este caso está repartido más o menos en grupos 0-1, 2-4 y 5-9"
      ]
    },
    {
      "cell_type": "code",
      "execution_count": null,
      "metadata": {
        "id": "iS2Un6lepxBQ"
      },
      "outputs": [],
      "source": [
        "# Type_of_Loan\n",
        "\n",
        "# Ayuda por favor\n",
        "\n",
        "# Ya haré esto"
      ]
    },
    {
      "cell_type": "code",
      "execution_count": null,
      "metadata": {
        "colab": {
          "base_uri": "https://localhost:8080/",
          "height": 292
        },
        "id": "ekA3Kxw0p4he",
        "outputId": "5f025535-4545-49b8-c8b1-43311622e4be"
      },
      "outputs": [
        {
          "data": {
            "image/png": "[encoded data removed]",
            "text/plain": [
              "<Figure size 432x288 with 1 Axes>"
            ]
          },
          "metadata": {},
          "output_type": "display_data"
        }
      ],
      "source": [
        "# Delay_from_due_date\n",
        "# Número medio de días de retraso en el pago\n",
        "\n",
        "plot = pd.crosstab(index=df_train['Delay_from_due_date'],\n",
        "            columns=df_train[\"Credit_Score\"]\n",
        "                  ).apply(lambda r: r/r.sum() *100,\n",
        "                          axis=0).plot(kind='bar', stacked=True, color=['#dede00', '#e41a1c', '#999999'])\n",
        "                          \n",
        "# Bastante claro, está separado en unos 4 grupos\n",
        "# Dividir en meses"
      ]
    },
    {
      "cell_type": "code",
      "execution_count": null,
      "metadata": {
        "colab": {
          "base_uri": "https://localhost:8080/",
          "height": 292
        },
        "id": "B6dU-zjkq8H7",
        "outputId": "0211be88-6ff0-44b7-f5c3-e7cbd71c7cdd"
      },
      "outputs": [
        {
          "data": {
            "image/png": "[encoded data removed]",
            "text/plain": [
              "<Figure size 432x288 with 1 Axes>"
            ]
          },
          "metadata": {},
          "output_type": "display_data"
        }
      ],
      "source": [
        "# Num_of_Delayed_Payment\n",
        "# Número medio de pagos atrasados del cliente\n",
        "\n",
        "plot = pd.crosstab(index=df_train['Num_of_Delayed_Payment'],\n",
        "            columns=df_train[\"Credit_Score\"]\n",
        "                  ).apply(lambda r: r/r.sum() *100,\n",
        "                          axis=0).plot(kind='bar', stacked=True, color=['#dede00', '#e41a1c', '#999999'])\n",
        "\n",
        "# Como siempre, 4 grupos, 0-7, 8-14, 15-20, 21-25"
      ]
    },
    {
      "cell_type": "code",
      "execution_count": null,
      "metadata": {
        "colab": {
          "base_uri": "https://localhost:8080/",
          "height": 292
        },
        "id": "OyN07-M3sBza",
        "outputId": "38308cd2-1c20-44d3-8436-acb844b7592f"
      },
      "outputs": [
        {
          "data": {
            "image/png": "[encoded data removed]",
            "text/plain": [
              "<Figure size 432x288 with 1 Axes>"
            ]
          },
          "metadata": {},
          "output_type": "display_data"
        }
      ],
      "source": [
        "# Changed_Credit_Limit\n",
        "# Porcentaje de cambio en los límites de gasto del cliente..    No sé qué es esto\n",
        "plot = pd.crosstab(index=df_train['Changed_Credit_Limit'],\n",
        "            columns=df_train[\"Credit_Score\"]\n",
        "                  ).apply(lambda r: r/r.sum() *100,\n",
        "                          axis=0).plot(kind='bar', stacked=True, color=['#dede00', '#e41a1c', '#999999'])\n",
        "\n",
        "# No varía mucho, pero se ve que a menos porcentaje más bueno"
      ]
    },
    {
      "cell_type": "code",
      "execution_count": null,
      "metadata": {
        "colab": {
          "base_uri": "https://localhost:8080/",
          "height": 292
        },
        "id": "AtaVYM-9sx5j",
        "outputId": "e821a4b7-2b0a-4174-9188-288b697d2551"
      },
      "outputs": [
        {
          "data": {
            "image/png": "[encoded data removed]",
            "text/plain": [
              "<Figure size 432x288 with 1 Axes>"
            ]
          },
          "metadata": {},
          "output_type": "display_data"
        }
      ],
      "source": [
        "# Num_Credit_Inquiries\n",
        "# Número de consultas sobre tarjetas de crédito realizadas por el cliente.\n",
        "\n",
        "plot = pd.crosstab(index=df_train['Num_Credit_Inquiries'],\n",
        "            columns=df_train[\"Credit_Score\"]\n",
        "                  ).apply(lambda r: r/r.sum() *100,\n",
        "                          axis=0).plot(kind='bar', stacked=True, color=['#dede00', '#e41a1c', '#999999'])\n",
        "\n",
        "# No sé qué es esto de consultas, pero a menos consultas, mejor es el resultado"
      ]
    },
    {
      "cell_type": "code",
      "execution_count": null,
      "metadata": {
        "colab": {
          "base_uri": "https://localhost:8080/",
          "height": 316
        },
        "id": "yVxvRasOtFwB",
        "outputId": "87968f29-1a8a-490e-ee25-91f6f77e628f"
      },
      "outputs": [
        {
          "data": {
            "image/png": "[encoded data removed]",
            "text/plain": [
              "<Figure size 432x288 with 1 Axes>"
            ]
          },
          "metadata": {},
          "output_type": "display_data"
        }
      ],
      "source": [
        "# Credit_Mix\n",
        "\n",
        "plot = pd.crosstab(index=df_train['Credit_Mix'],\n",
        "            columns=df_train[\"Credit_Score\"]\n",
        "                  ).apply(lambda r: r/r.sum() *100,\n",
        "                          axis=0).plot(kind='bar', stacked=True, color=['#dede00', '#e41a1c', '#999999'])\n",
        "\n",
        "# Good es más good, etc, obvio."
      ]
    },
    {
      "cell_type": "code",
      "execution_count": null,
      "metadata": {
        "colab": {
          "base_uri": "https://localhost:8080/",
          "height": 305
        },
        "id": "t3qakalRuB-S",
        "outputId": "f01d168c-e485-4869-d2fb-d0c75ebc304d"
      },
      "outputs": [
        {
          "data": {
            "image/png": "[encoded data removed]",
            "text/plain": [
              "<Figure size 432x288 with 1 Axes>"
            ]
          },
          "metadata": {},
          "output_type": "display_data"
        }
      ],
      "source": [
        "# Outstanding_Debt\n",
        "# Deuda en dólares\n",
        "plot = pd.crosstab(index=df_train['Outstanding_Debt'],\n",
        "            columns=df_train[\"Credit_Score\"]\n",
        "                  ).apply(lambda r: r/r.sum() *100,\n",
        "                          axis=0).plot(kind='bar', stacked=True, color=['#dede00', '#e41a1c', '#999999'])\n",
        "\n",
        "# A partir de la deuda de 1600 dólares, todos tienen un resultado muy pobre"
      ]
    },
    {
      "cell_type": "code",
      "execution_count": null,
      "metadata": {
        "colab": {
          "base_uri": "https://localhost:8080/",
          "height": 293
        },
        "id": "JRVKEyYgwvCa",
        "outputId": "ce42fabe-758a-4c35-cb0f-a4fe94ac2bbc"
      },
      "outputs": [
        {
          "data": {
            "image/png": "[encoded data removed]",
            "text/plain": [
              "<Figure size 432x288 with 1 Axes>"
            ]
          },
          "metadata": {},
          "output_type": "display_data"
        }
      ],
      "source": [
        "# Credit_Utilization_Ratio\n",
        "\n",
        "plot = pd.crosstab(index=df_train['Credit_Utilization_Ratio'],\n",
        "            columns=df_train[\"Credit_Score\"]\n",
        "                  ).apply(lambda r: r/r.sum() *100,\n",
        "                          axis=0).plot(kind='bar', stacked=True, color=['#dede00', '#e41a1c', '#999999'])\n",
        "\n",
        "\n",
        "# No veo, ya lo veré en mejor detalle"
      ]
    },
    {
      "cell_type": "code",
      "execution_count": null,
      "metadata": {
        "colab": {
          "base_uri": "https://localhost:8080/",
          "height": 299
        },
        "id": "h6NNKpbtykew",
        "outputId": "de981b2d-a724-41e7-d557-72c0f602144c"
      },
      "outputs": [
        {
          "data": {
            "image/png": "[encoded data removed]",
            "text/plain": [
              "<Figure size 432x288 with 1 Axes>"
            ]
          },
          "metadata": {},
          "output_type": "display_data"
        }
      ],
      "source": [
        "# Credit_History_Age\n",
        "# Antigüedad del historial de crédito.\n",
        "\n",
        "plot = pd.crosstab(index=df_train['Credit_History_Age'],\n",
        "            columns=df_train[\"Credit_Score\"]\n",
        "                  ).apply(lambda r: r/r.sum() *100,\n",
        "                          axis=0).plot(kind='bar', stacked=True, color=['#dede00', '#e41a1c', '#999999'])\n",
        "\n",
        "# Antes del 202 muy pobre, después de un número que no alcanzo a ver es mejor"
      ]
    },
    {
      "cell_type": "code",
      "execution_count": null,
      "metadata": {
        "colab": {
          "base_uri": "https://localhost:8080/",
          "height": 286
        },
        "id": "YqYJL3P2zLYn",
        "outputId": "b2118f41-3d3a-42e5-86df-fb597864fab1"
      },
      "outputs": [
        {
          "data": {
            "image/png": "[encoded data removed]",
            "text/plain": [
              "<Figure size 432x288 with 1 Axes>"
            ]
          },
          "metadata": {},
          "output_type": "display_data"
        }
      ],
      "source": [
        "# Payment_of_Min_Amount\n",
        "# Representa si la persona sólo ha pagado el importe mínimo.\n",
        "\n",
        "plot = pd.crosstab(index=df_train['Payment_of_Min_Amount'],\n",
        "            columns=df_train[\"Credit_Score\"]\n",
        "                  ).apply(lambda r: r/r.sum() *100,\n",
        "                          axis=0).plot(kind='bar', stacked=True, color=['#dede00', '#e41a1c', '#999999'])\n",
        "\n",
        "# Obvio                      "
      ]
    },
    {
      "cell_type": "code",
      "execution_count": null,
      "metadata": {
        "colab": {
          "base_uri": "https://localhost:8080/",
          "height": 305
        },
        "id": "OfZHbPG7zqfH",
        "outputId": "4470b1c4-5cbd-4ee3-af4e-93c83084f978"
      },
      "outputs": [
        {
          "data": {
            "image/png": "[encoded data removed]",
            "text/plain": [
              "<Figure size 432x288 with 1 Axes>"
            ]
          },
          "metadata": {},
          "output_type": "display_data"
        }
      ],
      "source": [
        "# Total_EMI_per_month\n",
        "plot = pd.crosstab(index=df_train['Total_EMI_per_month'],\n",
        "            columns=df_train[\"Credit_Score\"]\n",
        "                  ).apply(lambda r: r/r.sum() *100,\n",
        "                          axis=0).plot(kind='bar', stacked=True, color=['#dede00', '#e41a1c', '#999999'])\n",
        "\n",
        "# ESTA TABLA NO ES, TENGO QUE VOLVER A HACERLA"
      ]
    },
    {
      "cell_type": "code",
      "execution_count": null,
      "metadata": {
        "colab": {
          "base_uri": "https://localhost:8080/",
          "height": 299
        },
        "id": "tKPMSCjh0eUf",
        "outputId": "2575503c-6199-4b28-e892-990b80f6a982"
      },
      "outputs": [
        {
          "data": {
            "image/png": "[encoded data removed]",
            "text/plain": [
              "<Figure size 432x288 with 1 Axes>"
            ]
          },
          "metadata": {},
          "output_type": "display_data"
        }
      ],
      "source": [
        "# Amount_invested_monthly\n",
        "plot = pd.crosstab(index=df_train['Amount_invested_monthly'],\n",
        "            columns=df_train[\"Credit_Score\"]\n",
        "                  ).apply(lambda r: r/r.sum() *100,\n",
        "                          axis=0).plot(kind='bar', stacked=True, color=['#dede00', '#e41a1c', '#999999'])\n",
        "\n",
        "# Menos invertido, más pobre"
      ]
    },
    {
      "cell_type": "code",
      "execution_count": null,
      "metadata": {
        "colab": {
          "base_uri": "https://localhost:8080/",
          "height": 458
        },
        "id": "j2FTbvKs0gq9",
        "outputId": "26b0912c-8cfd-42c7-9478-16335379c9a1"
      },
      "outputs": [
        {
          "data": {
            "image/png": "[encoded data removed]",
            "text/plain": [
              "<Figure size 432x288 with 1 Axes>"
            ]
          },
          "metadata": {},
          "output_type": "display_data"
        }
      ],
      "source": [
        "# Payment_Behaviour\n",
        "\n",
        "plot = pd.crosstab(index=df_train['Payment_Behaviour'],\n",
        "            columns=df_train[\"Credit_Score\"]\n",
        "                  ).apply(lambda r: r/r.sum() *100,\n",
        "                          axis=0).plot(kind='bar', stacked=True, color=['#dede00', '#e41a1c', '#999999'])\n",
        "\n",
        "# Ya se ve, esta habría que ponerla en OneHotEncoder"
      ]
    },
    {
      "cell_type": "code",
      "execution_count": null,
      "metadata": {
        "colab": {
          "base_uri": "https://localhost:8080/",
          "height": 305
        },
        "id": "Cw28JSHQ0wMM",
        "outputId": "9625cfaf-795f-4006-d644-1e0d9b7059ce"
      },
      "outputs": [
        {
          "data": {
            "image/png": "[encoded data removed]",
            "text/plain": [
              "<Figure size 432x288 with 1 Axes>"
            ]
          },
          "metadata": {},
          "output_type": "display_data"
        }
      ],
      "source": [
        "# Monthly_Balance\n",
        "plot = pd.crosstab(index=df_train['Monthly_Balance'],\n",
        "            columns=df_train[\"Credit_Score\"]\n",
        "                  ).apply(lambda r: r/r.sum() *100,\n",
        "                          axis=0).plot(kind='bar', stacked=True, color=['#dede00', '#e41a1c', '#999999'])\n",
        "\n",
        "\n",
        "# Cuanto más alto, mejor es"
      ]
    },
    {
      "cell_type": "markdown",
      "metadata": {
        "id": "WBxnqdCst7ci"
      },
      "source": [
        "## Pre procesamiento"
      ]
    },
    {
      "cell_type": "code",
      "execution_count": 336,
      "metadata": {
        "id": "Q8nKCeyJt-6S"
      },
      "outputs": [],
      "source": [
        "# Columnas innecesarias a simple vista\n",
        "df_train = df_train.drop('Month', axis=1)\n",
        "df_train = df_train.drop('Name', axis=1)\n",
        "df_train = df_train.drop('SSN', axis=1)\n",
        "df_train = df_train.drop('Occupation', axis=1)\n",
        "df_train = df_train.drop('ID', axis=1)\n",
        "df_train = df_train.drop('Customer_ID', axis=1)"
      ]
    },
    {
      "cell_type": "code",
      "source": [
        "# Columnas innecesarias después de analizar la tabla de correlaciones\n",
        "df_train = df_train.drop('Credit_Utilization_Ratio', axis=1)\n",
        "df_train = df_train.drop('Total_EMI_per_month', axis=1)\n",
        "df_train = df_train.drop('Amount_invested_monthly', axis=1)\n",
        "#df_train = df_train.drop('Payment_Behaviour', axis=1)            # empeora un 0.002 con esto :(\n",
        "df_train = df_train.drop('Monthly_Balance', axis=1)\n",
        "df_train = df_train.drop('Monthly_Inhand_Salary', axis=1)\n",
        "df_train = df_train.drop('Age', axis=1)\n",
        "#df_train = df_train.drop('Type_of_Loan', axis=1)\n",
        "df_train = df_train.drop('Outstanding_Debt', axis=1)\n",
        "\n",
        "\n",
        "y = df_train['Credit_Score']\n",
        "\n",
        "\n",
        "df_train = df_train.drop('Credit_Score', axis=1)\n",
        "\n"
      ],
      "metadata": {
        "id": "zoGNp0xHa0Nc"
      },
      "execution_count": 337,
      "outputs": []
    },
    {
      "cell_type": "code",
      "source": [
        "# Procesamiento de la columna TypeOfLoan\n",
        "count_vectorizer = CountVectorizer(tokenizer = lambda x: re.sub(\", \", \",\", x).replace(\"and \", \"\").split(',')) \n",
        "data = count_vectorizer.fit_transform(df_train['Type_of_Loan'])\n",
        "print(count_vectorizer.get_feature_names_out())\n",
        "\n",
        "data_array = data.toarray()\n",
        "data_array[data_array > 1] = 1\n",
        "\n",
        "df_train[count_vectorizer.get_feature_names_out()] = data_array\n",
        "\n",
        "df_train = df_train.drop('Type_of_Loan', axis=1)"
      ],
      "metadata": {
        "colab": {
          "base_uri": "https://localhost:8080/"
        },
        "id": "5BvQBJbj8w76",
        "outputId": "4382ba8f-a252-4144-c2fd-479c21311917"
      },
      "execution_count": 338,
      "outputs": [
        {
          "output_type": "stream",
          "name": "stdout",
          "text": [
            "['auto loan' 'credit-builder loan' 'debt consolidation loan'\n",
            " 'home equity loan' 'mortgage loan' 'no data' 'not specified'\n",
            " 'payday loan' 'personal loan' 'student loan']\n"
          ]
        }
      ]
    },
    {
      "cell_type": "code",
      "execution_count": 339,
      "metadata": {
        "id": "Q63MmPT1Fm7z"
      },
      "outputs": [],
      "source": [
        "# Discretización de variables\n",
        "dos_categorias = [\"Bajo\", \"Alto\"]\n",
        "tres_categorias = [\"Bajo\", \"Medio\", \"Alto\"]\n",
        "cuatro_categorias = [\"Bajo\", \"Medio\", \"Alto\", \"Muy alto\"]\n",
        "cinco_categorias = [\"Muy bajo\", \"Bajo\", \"Medio\", \"Alto\", \"Muy alto\"]\n",
        "\n",
        "'''\n",
        "valores = [-math.inf, 50000, 90000, math.inf]\n",
        "df_train[\"Annual_Income\"] = pd.cut(x=df_train[\"Annual_Income\"], bins=valores, labels=tres_categorias)\n",
        "\n",
        "valores = [-math.inf, 3000, 7000, math.inf]\n",
        "df_train[\"Monthly_Inhand_Salary\"] = pd.cut(x=df_train[\"Monthly_Inhand_Salary\"], bins=valores, labels=tres_categorias)\n",
        "\n",
        "valores = [-math.inf, 4, 12, 14, 20, math.inf]\n",
        "df_train[\"Interest_Rate\"] = pd.cut(x=df_train[\"Interest_Rate\"], bins=valores, labels=cinco_categorias)\n",
        "\n",
        "valores = [-math.inf, 4, 15, 30, math.inf]\n",
        "df_train[\"Delay_from_due_date\"] = pd.cut(x=df_train[\"Delay_from_due_date\"], bins=valores, labels=cuatro_categorias)\n",
        "\n",
        "valores = [-math.inf, 10, 20, 30, math.inf]\n",
        "df_train[\"Changed_Credit_Limit\"] = pd.cut(x=df_train[\"Changed_Credit_Limit\"], bins=valores, labels=cuatro_categorias)\n",
        "\n",
        "valores = [-math.inf, 4, 12, math.inf]\n",
        "df_train[\"Num_Credit_Inquiries\"] = pd.cut(x=df_train[\"Num_Credit_Inquiries\"], bins=valores, labels=tres_categorias)\n",
        "\n",
        "valores = [-math.inf, 15, 22, math.inf]\n",
        "df_train[\"Outstanding_Debt\"] = pd.cut(x=df_train[\"Outstanding_Debt\"], bins=valores, labels=tres_categorias)\n",
        "\n",
        "valores = [-math.inf, 17, 46, math.inf]\n",
        "df_train[\"Age\"] = pd.cut(x=df_train[\"Age\"], bins=valores, labels=tres_categorias)\n",
        "'''\n",
        "\n",
        "valores = [-math.inf, 2, 5, 8, math.inf]\n",
        "df_train[\"Num_Bank_Accounts\"] = pd.cut(x=df_train[\"Num_Bank_Accounts\"], bins=valores, labels=cuatro_categorias)\n",
        "\n",
        "valores = [-math.inf, 2, 4, 7, math.inf]\n",
        "df_train[\"Num_Credit_Card\"] = pd.cut(x=df_train[\"Num_Credit_Card\"], bins=valores, labels=cuatro_categorias)\n",
        "\n",
        "valores = [-math.inf, 4, math.inf]\n",
        "df_train[\"Num_of_Loan\"] = pd.cut(x=df_train[\"Num_of_Loan\"], bins=valores, labels=dos_categorias)\n",
        "\n",
        "valores = [-math.inf, 7, 14, 20, math.inf]\n",
        "df_train[\"Num_of_Delayed_Payment\"] = pd.cut(x=df_train[\"Num_of_Delayed_Payment\"], bins=valores, labels=cuatro_categorias)"
      ]
    },
    {
      "cell_type": "code",
      "execution_count": 340,
      "metadata": {
        "id": "96q3CAOMJeN7",
        "colab": {
          "base_uri": "https://localhost:8080/",
          "height": 522
        },
        "outputId": "243d829d-1c63-4adb-8494-865517fb2792"
      },
      "outputs": [
        {
          "output_type": "execute_result",
          "data": {
            "text/plain": [
              "       Annual_Income  Interest_Rate  Delay_from_due_date  \\\n",
              "0           0.522475       0.212121             0.322581   \n",
              "1           0.140846       0.787879             0.483871   \n",
              "2           0.133922       0.878788             0.790323   \n",
              "3           0.035230       0.151515             0.096774   \n",
              "4           0.319732       0.515152             0.435484   \n",
              "...              ...            ...                  ...   \n",
              "79995       0.582464       0.242424             0.112903   \n",
              "79996       0.053257       0.606061             0.709677   \n",
              "79997       0.129314       0.151515             0.370968   \n",
              "79998       0.212604       0.727273             0.516129   \n",
              "79999       0.550404       0.272727             0.177419   \n",
              "\n",
              "       Changed_Credit_Limit  Num_Credit_Inquiries  Credit_History_Age  \\\n",
              "0                  0.000678              0.176471            0.831266   \n",
              "1                  0.651289              0.352941            0.354839   \n",
              "2                  0.779851              0.588235            0.302730   \n",
              "3                  0.343962              0.470588            0.317618   \n",
              "4                  0.417910              0.529412            0.300248   \n",
              "...                     ...                   ...                 ...   \n",
              "79995              0.476934              0.176471            0.521092   \n",
              "79996              0.287653              0.352941            0.240695   \n",
              "79997              0.547829              0.411765            0.595533   \n",
              "79998              0.046811              0.705882            0.208437   \n",
              "79999              0.115332              0.470588            0.905707   \n",
              "\n",
              "       auto loan  credit-builder loan  debt consolidation loan  \\\n",
              "0            0.0                  0.0                      1.0   \n",
              "1            0.0                  0.0                      0.0   \n",
              "2            0.0                  1.0                      0.0   \n",
              "3            0.0                  1.0                      1.0   \n",
              "4            1.0                  1.0                      0.0   \n",
              "...          ...                  ...                      ...   \n",
              "79995        0.0                  0.0                      0.0   \n",
              "79996        0.0                  1.0                      0.0   \n",
              "79997        0.0                  0.0                      0.0   \n",
              "79998        1.0                  1.0                      0.0   \n",
              "79999        0.0                  0.0                      0.0   \n",
              "\n",
              "       home equity loan  ...  Credit_Mix_Standard  Payment_of_Min_Amount_NM  \\\n",
              "0                   0.0  ...                  0.0                       0.0   \n",
              "1                   1.0  ...                  0.0                       0.0   \n",
              "2                   1.0  ...                  0.0                       0.0   \n",
              "3                   1.0  ...                  1.0                       0.0   \n",
              "4                   0.0  ...                  1.0                       1.0   \n",
              "...                 ...  ...                  ...                       ...   \n",
              "79995               0.0  ...                  1.0                       0.0   \n",
              "79996               1.0  ...                  0.0                       1.0   \n",
              "79997               0.0  ...                  1.0                       1.0   \n",
              "79998               1.0  ...                  0.0                       0.0   \n",
              "79999               0.0  ...                  0.0                       0.0   \n",
              "\n",
              "       Payment_of_Min_Amount_No  Payment_of_Min_Amount_Yes  \\\n",
              "0                           1.0                        0.0   \n",
              "1                           0.0                        1.0   \n",
              "2                           0.0                        1.0   \n",
              "3                           0.0                        1.0   \n",
              "4                           0.0                        0.0   \n",
              "...                         ...                        ...   \n",
              "79995                       0.0                        1.0   \n",
              "79996                       0.0                        0.0   \n",
              "79997                       0.0                        0.0   \n",
              "79998                       0.0                        1.0   \n",
              "79999                       1.0                        0.0   \n",
              "\n",
              "       Payment_Behaviour_High_spent_Large_value_payments  \\\n",
              "0                                                    1.0   \n",
              "1                                                    1.0   \n",
              "2                                                    1.0   \n",
              "3                                                    0.0   \n",
              "4                                                    0.0   \n",
              "...                                                  ...   \n",
              "79995                                                1.0   \n",
              "79996                                                0.0   \n",
              "79997                                                0.0   \n",
              "79998                                                0.0   \n",
              "79999                                                0.0   \n",
              "\n",
              "       Payment_Behaviour_High_spent_Medium_value_payments  \\\n",
              "0                                                    0.0    \n",
              "1                                                    0.0    \n",
              "2                                                    0.0    \n",
              "3                                                    0.0    \n",
              "4                                                    0.0    \n",
              "...                                                  ...    \n",
              "79995                                                0.0    \n",
              "79996                                                0.0    \n",
              "79997                                                1.0    \n",
              "79998                                                0.0    \n",
              "79999                                                0.0    \n",
              "\n",
              "       Payment_Behaviour_High_spent_Small_value_payments  \\\n",
              "0                                                    0.0   \n",
              "1                                                    0.0   \n",
              "2                                                    0.0   \n",
              "3                                                    0.0   \n",
              "4                                                    0.0   \n",
              "...                                                  ...   \n",
              "79995                                                0.0   \n",
              "79996                                                1.0   \n",
              "79997                                                0.0   \n",
              "79998                                                0.0   \n",
              "79999                                                0.0   \n",
              "\n",
              "       Payment_Behaviour_Low_spent_Large_value_payments  \\\n",
              "0                                                   0.0   \n",
              "1                                                   0.0   \n",
              "2                                                   0.0   \n",
              "3                                                   1.0   \n",
              "4                                                   0.0   \n",
              "...                                                 ...   \n",
              "79995                                               0.0   \n",
              "79996                                               0.0   \n",
              "79997                                               0.0   \n",
              "79998                                               1.0   \n",
              "79999                                               0.0   \n",
              "\n",
              "       Payment_Behaviour_Low_spent_Medium_value_payments  \\\n",
              "0                                                    0.0   \n",
              "1                                                    0.0   \n",
              "2                                                    0.0   \n",
              "3                                                    0.0   \n",
              "4                                                    1.0   \n",
              "...                                                  ...   \n",
              "79995                                                0.0   \n",
              "79996                                                0.0   \n",
              "79997                                                0.0   \n",
              "79998                                                0.0   \n",
              "79999                                                1.0   \n",
              "\n",
              "       Payment_Behaviour_Low_spent_Small_value_payments  \n",
              "0                                                   0.0  \n",
              "1                                                   0.0  \n",
              "2                                                   0.0  \n",
              "3                                                   0.0  \n",
              "4                                                   0.0  \n",
              "...                                                 ...  \n",
              "79995                                               0.0  \n",
              "79996                                               0.0  \n",
              "79997                                               0.0  \n",
              "79998                                               0.0  \n",
              "79999                                               0.0  \n",
              "\n",
              "[80000 rows x 42 columns]"
            ],
            "text/html": [
              "\n",
              "  <div id=\"df-352eddde-c01c-40d6-96ed-1ff3d39c62de\">\n",
              "    <div class=\"colab-df-container\">\n",
              "      <div>\n",
              "<style scoped>\n",
              "    .dataframe tbody tr th:only-of-type {\n",
              "        vertical-align: middle;\n",
              "    }\n",
              "\n",
              "    .dataframe tbody tr th {\n",
              "        vertical-align: top;\n",
              "    }\n",
              "\n",
              "    .dataframe thead th {\n",
              "        text-align: right;\n",
              "    }\n",
              "</style>\n",
              "<table border=\"1\" class=\"dataframe\">\n",
              "  <thead>\n",
              "    <tr style=\"text-align: right;\">\n",
              "      <th></th>\n",
              "      <th>Annual_Income</th>\n",
              "      <th>Interest_Rate</th>\n",
              "      <th>Delay_from_due_date</th>\n",
              "      <th>Changed_Credit_Limit</th>\n",
              "      <th>Num_Credit_Inquiries</th>\n",
              "      <th>Credit_History_Age</th>\n",
              "      <th>auto loan</th>\n",
              "      <th>credit-builder loan</th>\n",
              "      <th>debt consolidation loan</th>\n",
              "      <th>home equity loan</th>\n",
              "      <th>...</th>\n",
              "      <th>Credit_Mix_Standard</th>\n",
              "      <th>Payment_of_Min_Amount_NM</th>\n",
              "      <th>Payment_of_Min_Amount_No</th>\n",
              "      <th>Payment_of_Min_Amount_Yes</th>\n",
              "      <th>Payment_Behaviour_High_spent_Large_value_payments</th>\n",
              "      <th>Payment_Behaviour_High_spent_Medium_value_payments</th>\n",
              "      <th>Payment_Behaviour_High_spent_Small_value_payments</th>\n",
              "      <th>Payment_Behaviour_Low_spent_Large_value_payments</th>\n",
              "      <th>Payment_Behaviour_Low_spent_Medium_value_payments</th>\n",
              "      <th>Payment_Behaviour_Low_spent_Small_value_payments</th>\n",
              "    </tr>\n",
              "  </thead>\n",
              "  <tbody>\n",
              "    <tr>\n",
              "      <th>0</th>\n",
              "      <td>0.522475</td>\n",
              "      <td>0.212121</td>\n",
              "      <td>0.322581</td>\n",
              "      <td>0.000678</td>\n",
              "      <td>0.176471</td>\n",
              "      <td>0.831266</td>\n",
              "      <td>0.0</td>\n",
              "      <td>0.0</td>\n",
              "      <td>1.0</td>\n",
              "      <td>0.0</td>\n",
              "      <td>...</td>\n",
              "      <td>0.0</td>\n",
              "      <td>0.0</td>\n",
              "      <td>1.0</td>\n",
              "      <td>0.0</td>\n",
              "      <td>1.0</td>\n",
              "      <td>0.0</td>\n",
              "      <td>0.0</td>\n",
              "      <td>0.0</td>\n",
              "      <td>0.0</td>\n",
              "      <td>0.0</td>\n",
              "    </tr>\n",
              "    <tr>\n",
              "      <th>1</th>\n",
              "      <td>0.140846</td>\n",
              "      <td>0.787879</td>\n",
              "      <td>0.483871</td>\n",
              "      <td>0.651289</td>\n",
              "      <td>0.352941</td>\n",
              "      <td>0.354839</td>\n",
              "      <td>0.0</td>\n",
              "      <td>0.0</td>\n",
              "      <td>0.0</td>\n",
              "      <td>1.0</td>\n",
              "      <td>...</td>\n",
              "      <td>0.0</td>\n",
              "      <td>0.0</td>\n",
              "      <td>0.0</td>\n",
              "      <td>1.0</td>\n",
              "      <td>1.0</td>\n",
              "      <td>0.0</td>\n",
              "      <td>0.0</td>\n",
              "      <td>0.0</td>\n",
              "      <td>0.0</td>\n",
              "      <td>0.0</td>\n",
              "    </tr>\n",
              "    <tr>\n",
              "      <th>2</th>\n",
              "      <td>0.133922</td>\n",
              "      <td>0.878788</td>\n",
              "      <td>0.790323</td>\n",
              "      <td>0.779851</td>\n",
              "      <td>0.588235</td>\n",
              "      <td>0.302730</td>\n",
              "      <td>0.0</td>\n",
              "      <td>1.0</td>\n",
              "      <td>0.0</td>\n",
              "      <td>1.0</td>\n",
              "      <td>...</td>\n",
              "      <td>0.0</td>\n",
              "      <td>0.0</td>\n",
              "      <td>0.0</td>\n",
              "      <td>1.0</td>\n",
              "      <td>1.0</td>\n",
              "      <td>0.0</td>\n",
              "      <td>0.0</td>\n",
              "      <td>0.0</td>\n",
              "      <td>0.0</td>\n",
              "      <td>0.0</td>\n",
              "    </tr>\n",
              "    <tr>\n",
              "      <th>3</th>\n",
              "      <td>0.035230</td>\n",
              "      <td>0.151515</td>\n",
              "      <td>0.096774</td>\n",
              "      <td>0.343962</td>\n",
              "      <td>0.470588</td>\n",
              "      <td>0.317618</td>\n",
              "      <td>0.0</td>\n",
              "      <td>1.0</td>\n",
              "      <td>1.0</td>\n",
              "      <td>1.0</td>\n",
              "      <td>...</td>\n",
              "      <td>1.0</td>\n",
              "      <td>0.0</td>\n",
              "      <td>0.0</td>\n",
              "      <td>1.0</td>\n",
              "      <td>0.0</td>\n",
              "      <td>0.0</td>\n",
              "      <td>0.0</td>\n",
              "      <td>1.0</td>\n",
              "      <td>0.0</td>\n",
              "      <td>0.0</td>\n",
              "    </tr>\n",
              "    <tr>\n",
              "      <th>4</th>\n",
              "      <td>0.319732</td>\n",
              "      <td>0.515152</td>\n",
              "      <td>0.435484</td>\n",
              "      <td>0.417910</td>\n",
              "      <td>0.529412</td>\n",
              "      <td>0.300248</td>\n",
              "      <td>1.0</td>\n",
              "      <td>1.0</td>\n",
              "      <td>0.0</td>\n",
              "      <td>0.0</td>\n",
              "      <td>...</td>\n",
              "      <td>1.0</td>\n",
              "      <td>1.0</td>\n",
              "      <td>0.0</td>\n",
              "      <td>0.0</td>\n",
              "      <td>0.0</td>\n",
              "      <td>0.0</td>\n",
              "      <td>0.0</td>\n",
              "      <td>0.0</td>\n",
              "      <td>1.0</td>\n",
              "      <td>0.0</td>\n",
              "    </tr>\n",
              "    <tr>\n",
              "      <th>...</th>\n",
              "      <td>...</td>\n",
              "      <td>...</td>\n",
              "      <td>...</td>\n",
              "      <td>...</td>\n",
              "      <td>...</td>\n",
              "      <td>...</td>\n",
              "      <td>...</td>\n",
              "      <td>...</td>\n",
              "      <td>...</td>\n",
              "      <td>...</td>\n",
              "      <td>...</td>\n",
              "      <td>...</td>\n",
              "      <td>...</td>\n",
              "      <td>...</td>\n",
              "      <td>...</td>\n",
              "      <td>...</td>\n",
              "      <td>...</td>\n",
              "      <td>...</td>\n",
              "      <td>...</td>\n",
              "      <td>...</td>\n",
              "      <td>...</td>\n",
              "    </tr>\n",
              "    <tr>\n",
              "      <th>79995</th>\n",
              "      <td>0.582464</td>\n",
              "      <td>0.242424</td>\n",
              "      <td>0.112903</td>\n",
              "      <td>0.476934</td>\n",
              "      <td>0.176471</td>\n",
              "      <td>0.521092</td>\n",
              "      <td>0.0</td>\n",
              "      <td>0.0</td>\n",
              "      <td>0.0</td>\n",
              "      <td>0.0</td>\n",
              "      <td>...</td>\n",
              "      <td>1.0</td>\n",
              "      <td>0.0</td>\n",
              "      <td>0.0</td>\n",
              "      <td>1.0</td>\n",
              "      <td>1.0</td>\n",
              "      <td>0.0</td>\n",
              "      <td>0.0</td>\n",
              "      <td>0.0</td>\n",
              "      <td>0.0</td>\n",
              "      <td>0.0</td>\n",
              "    </tr>\n",
              "    <tr>\n",
              "      <th>79996</th>\n",
              "      <td>0.053257</td>\n",
              "      <td>0.606061</td>\n",
              "      <td>0.709677</td>\n",
              "      <td>0.287653</td>\n",
              "      <td>0.352941</td>\n",
              "      <td>0.240695</td>\n",
              "      <td>0.0</td>\n",
              "      <td>1.0</td>\n",
              "      <td>0.0</td>\n",
              "      <td>1.0</td>\n",
              "      <td>...</td>\n",
              "      <td>0.0</td>\n",
              "      <td>1.0</td>\n",
              "      <td>0.0</td>\n",
              "      <td>0.0</td>\n",
              "      <td>0.0</td>\n",
              "      <td>0.0</td>\n",
              "      <td>1.0</td>\n",
              "      <td>0.0</td>\n",
              "      <td>0.0</td>\n",
              "      <td>0.0</td>\n",
              "    </tr>\n",
              "    <tr>\n",
              "      <th>79997</th>\n",
              "      <td>0.129314</td>\n",
              "      <td>0.151515</td>\n",
              "      <td>0.370968</td>\n",
              "      <td>0.547829</td>\n",
              "      <td>0.411765</td>\n",
              "      <td>0.595533</td>\n",
              "      <td>0.0</td>\n",
              "      <td>0.0</td>\n",
              "      <td>0.0</td>\n",
              "      <td>0.0</td>\n",
              "      <td>...</td>\n",
              "      <td>1.0</td>\n",
              "      <td>1.0</td>\n",
              "      <td>0.0</td>\n",
              "      <td>0.0</td>\n",
              "      <td>0.0</td>\n",
              "      <td>1.0</td>\n",
              "      <td>0.0</td>\n",
              "      <td>0.0</td>\n",
              "      <td>0.0</td>\n",
              "      <td>0.0</td>\n",
              "    </tr>\n",
              "    <tr>\n",
              "      <th>79998</th>\n",
              "      <td>0.212604</td>\n",
              "      <td>0.727273</td>\n",
              "      <td>0.516129</td>\n",
              "      <td>0.046811</td>\n",
              "      <td>0.705882</td>\n",
              "      <td>0.208437</td>\n",
              "      <td>1.0</td>\n",
              "      <td>1.0</td>\n",
              "      <td>0.0</td>\n",
              "      <td>1.0</td>\n",
              "      <td>...</td>\n",
              "      <td>0.0</td>\n",
              "      <td>0.0</td>\n",
              "      <td>0.0</td>\n",
              "      <td>1.0</td>\n",
              "      <td>0.0</td>\n",
              "      <td>0.0</td>\n",
              "      <td>0.0</td>\n",
              "      <td>1.0</td>\n",
              "      <td>0.0</td>\n",
              "      <td>0.0</td>\n",
              "    </tr>\n",
              "    <tr>\n",
              "      <th>79999</th>\n",
              "      <td>0.550404</td>\n",
              "      <td>0.272727</td>\n",
              "      <td>0.177419</td>\n",
              "      <td>0.115332</td>\n",
              "      <td>0.470588</td>\n",
              "      <td>0.905707</td>\n",
              "      <td>0.0</td>\n",
              "      <td>0.0</td>\n",
              "      <td>0.0</td>\n",
              "      <td>0.0</td>\n",
              "      <td>...</td>\n",
              "      <td>0.0</td>\n",
              "      <td>0.0</td>\n",
              "      <td>1.0</td>\n",
              "      <td>0.0</td>\n",
              "      <td>0.0</td>\n",
              "      <td>0.0</td>\n",
              "      <td>0.0</td>\n",
              "      <td>0.0</td>\n",
              "      <td>1.0</td>\n",
              "      <td>0.0</td>\n",
              "    </tr>\n",
              "  </tbody>\n",
              "</table>\n",
              "<p>80000 rows × 42 columns</p>\n",
              "</div>\n",
              "      <button class=\"colab-df-convert\" onclick=\"convertToInteractive('df-352eddde-c01c-40d6-96ed-1ff3d39c62de')\"\n",
              "              title=\"Convert this dataframe to an interactive table.\"\n",
              "              style=\"display:none;\">\n",
              "        \n",
              "  <svg xmlns=\"http://www.w3.org/2000/svg\" height=\"24px\"viewBox=\"0 0 24 24\"\n",
              "       width=\"24px\">\n",
              "    <path d=\"M0 0h24v24H0V0z\" fill=\"none\"/>\n",
              "    <path d=\"M18.56 5.44l.94 2.06.94-2.06 2.06-.94-2.06-.94-.94-2.06-.94 2.06-2.06.94zm-11 1L8.5 8.5l.94-2.06 2.06-.94-2.06-.94L8.5 2.5l-.94 2.06-2.06.94zm10 10l.94 2.06.94-2.06 2.06-.94-2.06-.94-.94-2.06-.94 2.06-2.06.94z\"/><path d=\"M17.41 7.96l-1.37-1.37c-.4-.4-.92-.59-1.43-.59-.52 0-1.04.2-1.43.59L10.3 9.45l-7.72 7.72c-.78.78-.78 2.05 0 2.83L4 21.41c.39.39.9.59 1.41.59.51 0 1.02-.2 1.41-.59l7.78-7.78 2.81-2.81c.8-.78.8-2.07 0-2.86zM5.41 20L4 18.59l7.72-7.72 1.47 1.35L5.41 20z\"/>\n",
              "  </svg>\n",
              "      </button>\n",
              "      \n",
              "  <style>\n",
              "    .colab-df-container {\n",
              "      display:flex;\n",
              "      flex-wrap:wrap;\n",
              "      gap: 12px;\n",
              "    }\n",
              "\n",
              "    .colab-df-convert {\n",
              "      background-color: #E8F0FE;\n",
              "      border: none;\n",
              "      border-radius: 50%;\n",
              "      cursor: pointer;\n",
              "      display: none;\n",
              "      fill: #1967D2;\n",
              "      height: 32px;\n",
              "      padding: 0 0 0 0;\n",
              "      width: 32px;\n",
              "    }\n",
              "\n",
              "    .colab-df-convert:hover {\n",
              "      background-color: #E2EBFA;\n",
              "      box-shadow: 0px 1px 2px rgba(60, 64, 67, 0.3), 0px 1px 3px 1px rgba(60, 64, 67, 0.15);\n",
              "      fill: #174EA6;\n",
              "    }\n",
              "\n",
              "    [theme=dark] .colab-df-convert {\n",
              "      background-color: #3B4455;\n",
              "      fill: #D2E3FC;\n",
              "    }\n",
              "\n",
              "    [theme=dark] .colab-df-convert:hover {\n",
              "      background-color: #434B5C;\n",
              "      box-shadow: 0px 1px 3px 1px rgba(0, 0, 0, 0.15);\n",
              "      filter: drop-shadow(0px 1px 2px rgba(0, 0, 0, 0.3));\n",
              "      fill: #FFFFFF;\n",
              "    }\n",
              "  </style>\n",
              "\n",
              "      <script>\n",
              "        const buttonEl =\n",
              "          document.querySelector('#df-352eddde-c01c-40d6-96ed-1ff3d39c62de button.colab-df-convert');\n",
              "        buttonEl.style.display =\n",
              "          google.colab.kernel.accessAllowed ? 'block' : 'none';\n",
              "\n",
              "        async function convertToInteractive(key) {\n",
              "          const element = document.querySelector('#df-352eddde-c01c-40d6-96ed-1ff3d39c62de');\n",
              "          const dataTable =\n",
              "            await google.colab.kernel.invokeFunction('convertToInteractive',\n",
              "                                                     [key], {});\n",
              "          if (!dataTable) return;\n",
              "\n",
              "          const docLinkHtml = 'Like what you see? Visit the ' +\n",
              "            '<a target=\"_blank\" href=https://colab.research.google.com/notebooks/data_table.ipynb>data table notebook</a>'\n",
              "            + ' to learn more about interactive tables.';\n",
              "          element.innerHTML = '';\n",
              "          dataTable['output_type'] = 'display_data';\n",
              "          await google.colab.output.renderOutput(dataTable, element);\n",
              "          const docLink = document.createElement('div');\n",
              "          docLink.innerHTML = docLinkHtml;\n",
              "          element.appendChild(docLink);\n",
              "        }\n",
              "      </script>\n",
              "    </div>\n",
              "  </div>\n",
              "  "
            ]
          },
          "metadata": {},
          "execution_count": 340
        }
      ],
      "source": [
        "oe = OrdinalEncoder()\n",
        "\n",
        "#df_train[['Num_Bank_Accounts', 'Num_Credit_Card', 'Num_of_Loan', 'Num_of_Delayed_Payment', 'Credit_Mix', 'Payment_Behaviour', 'Payment_of_Min_Amount']] = oe.fit_transform(df_train[['Num_Bank_Accounts', 'Num_Credit_Card', 'Num_of_Loan', 'Num_of_Delayed_Payment', 'Credit_Mix', 'Payment_Behaviour', 'Payment_of_Min_Amount']])\n",
        "\n",
        "'''\n",
        "import pandas as pd\n",
        "from sklearn import preprocessing\n",
        "\n",
        "x = df_train.values #returns a numpy array\n",
        "min_max_scaler = preprocessing.MinMaxScaler()\n",
        "x_scaled = min_max_scaler.fit_transform(x)\n",
        "df_train = pd.DataFrame(x_scaled)'''\n",
        "\n",
        "def normalize(df):\n",
        "    result = df.copy()\n",
        "    for feature_name in df.columns:\n",
        "        max_value = df[feature_name].max()\n",
        "        min_value = df[feature_name].min()\n",
        "        result[feature_name] = (df[feature_name] - min_value) / (max_value - min_value)\n",
        "    return result\n",
        "\n",
        "# get_dummies lo mejora MUY POCO, lo dejo de momento, de momento da nuestra mejor marca\n",
        "df_train = pd.get_dummies(df_train)\n",
        "\n",
        "df_train = normalize(df_train)\n",
        "\n",
        "df_train"
      ]
    },
    {
      "cell_type": "markdown",
      "metadata": {
        "id": "b7BMr0yQ93eY"
      },
      "source": [
        "## Pre procesamiento test"
      ]
    },
    {
      "cell_type": "code",
      "execution_count": 341,
      "metadata": {
        "id": "GS0s_ver93eY"
      },
      "outputs": [],
      "source": [
        "# Columnas innecesarias\n",
        "df_test = df_test.drop('Month', axis=1)\n",
        "df_test = df_test.drop('Name', axis=1)\n",
        "df_test = df_test.drop('SSN', axis=1)\n",
        "df_test = df_test.drop('Occupation', axis=1)\n",
        "df_test = df_test.drop('ID', axis=1)\n",
        "df_test = df_test.drop('Customer_ID', axis=1)"
      ]
    },
    {
      "cell_type": "code",
      "source": [
        "# Columnas innecesarias después de analizar la tabla de correlaciones\n",
        "df_test = df_test.drop('Credit_Utilization_Ratio', axis=1)\n",
        "df_test = df_test.drop('Total_EMI_per_month', axis=1)\n",
        "df_test = df_test.drop('Amount_invested_monthly', axis=1)\n",
        "#df_test = df_test.drop('Payment_Behaviour', axis=1)\n",
        "df_test = df_test.drop('Monthly_Balance', axis=1)\n",
        "df_test = df_test.drop('Monthly_Inhand_Salary', axis=1)\n",
        "#df_test = df_test.drop('Type_of_Loan', axis=1)\n",
        "df_test = df_test.drop('Age', axis=1)\n",
        "df_test = df_test.drop('Outstanding_Debt', axis=1)\n"
      ],
      "metadata": {
        "id": "oXUb3S8dbd00"
      },
      "execution_count": 342,
      "outputs": []
    },
    {
      "cell_type": "code",
      "source": [
        "# Procesamiento de la columna TypeOfLoan\n",
        "count_vectorizer = CountVectorizer(tokenizer = lambda x: re.sub(\", \", \",\", x).replace(\"and \", \"\").split(',')) \n",
        "data = count_vectorizer.fit_transform(df_test['Type_of_Loan'])\n",
        "print(count_vectorizer.get_feature_names_out())\n",
        "\n",
        "data_array = data.toarray()\n",
        "data_array[data_array > 1] = 1\n",
        "\n",
        "df_test[count_vectorizer.get_feature_names_out()] = data_array\n",
        "\n",
        "df_test = df_test.drop('Type_of_Loan', axis=1)"
      ],
      "metadata": {
        "colab": {
          "base_uri": "https://localhost:8080/"
        },
        "outputId": "821b3f0d-cf48-4364-a94f-7f3dd2683784",
        "id": "76SPxTS993eY"
      },
      "execution_count": 343,
      "outputs": [
        {
          "output_type": "stream",
          "name": "stdout",
          "text": [
            "['auto loan' 'credit-builder loan' 'debt consolidation loan'\n",
            " 'home equity loan' 'mortgage loan' 'no data' 'not specified'\n",
            " 'payday loan' 'personal loan' 'student loan']\n"
          ]
        }
      ]
    },
    {
      "cell_type": "code",
      "execution_count": 344,
      "metadata": {
        "id": "kLE9rbFY93eZ"
      },
      "outputs": [],
      "source": [
        "dos_categorias = [\"Bajo\", \"Alto\"]\n",
        "tres_categorias = [\"Bajo\", \"Medio\", \"Alto\"]\n",
        "cuatro_categorias = [\"Bajo\", \"Medio\", \"Alto\", \"Muy alto\"]\n",
        "cinco_categorias = [\"Muy bajo\", \"Bajo\", \"Medio\", \"Alto\", \"Muy alto\"]\n",
        "\n",
        "'''\n",
        "valores = [-math.inf, 50000, 90000, math.inf]\n",
        "df_train[\"Annual_Income\"] = pd.cut(x=df_train[\"Annual_Income\"], bins=valores, labels=tres_categorias)\n",
        "\n",
        "valores = [-math.inf, 3000, 7000, math.inf]\n",
        "df_train[\"Monthly_Inhand_Salary\"] = pd.cut(x=df_train[\"Monthly_Inhand_Salary\"], bins=valores, labels=tres_categorias)\n",
        "\n",
        "valores = [-math.inf, 4, 12, 14, 20, math.inf]\n",
        "df_train[\"Interest_Rate\"] = pd.cut(x=df_train[\"Interest_Rate\"], bins=valores, labels=cinco_categorias)\n",
        "\n",
        "valores = [-math.inf, 4, 15, 30, math.inf]\n",
        "df_train[\"Delay_from_due_date\"] = pd.cut(x=df_train[\"Delay_from_due_date\"], bins=valores, labels=cuatro_categorias)\n",
        "\n",
        "valores = [-math.inf, 10, 20, 30, math.inf]\n",
        "df_train[\"Changed_Credit_Limit\"] = pd.cut(x=df_train[\"Changed_Credit_Limit\"], bins=valores, labels=cuatro_categorias)\n",
        "\n",
        "valores = [-math.inf, 4, 12, math.inf]\n",
        "df_train[\"Num_Credit_Inquiries\"] = pd.cut(x=df_train[\"Num_Credit_Inquiries\"], bins=valores, labels=tres_categorias)\n",
        "\n",
        "valores = [-math.inf, 15, 22, math.inf]\n",
        "df_train[\"Outstanding_Debt\"] = pd.cut(x=df_train[\"Outstanding_Debt\"], bins=valores, labels=tres_categorias)\n",
        "\n",
        "valores = [-math.inf, 17, 46, math.inf]\n",
        "df_test[\"Age\"] = pd.cut(x=df_test[\"Age\"], bins=valores, labels=tres_categorias)\n",
        "'''\n",
        "\n",
        "valores = [-math.inf, 2, 5, 8, math.inf]\n",
        "df_test[\"Num_Bank_Accounts\"] = pd.cut(x=df_test[\"Num_Bank_Accounts\"], bins=valores, labels=cuatro_categorias)\n",
        "\n",
        "valores = [-math.inf, 2, 4, 7, math.inf]\n",
        "df_test[\"Num_Credit_Card\"] = pd.cut(x=df_test[\"Num_Credit_Card\"], bins=valores, labels=cuatro_categorias)\n",
        "\n",
        "valores = [-math.inf, 4, math.inf]\n",
        "df_test[\"Num_of_Loan\"] = pd.cut(x=df_test[\"Num_of_Loan\"], bins=valores, labels=dos_categorias)\n",
        "\n",
        "valores = [-math.inf, 7, 14, 20, math.inf]\n",
        "df_test[\"Num_of_Delayed_Payment\"] = pd.cut(x=df_test[\"Num_of_Delayed_Payment\"], bins=valores, labels=cuatro_categorias)"
      ]
    },
    {
      "cell_type": "code",
      "execution_count": 345,
      "metadata": {
        "colab": {
          "base_uri": "https://localhost:8080/",
          "height": 522
        },
        "outputId": "988cd0b2-1684-4b2a-9afa-035eef0f60c1",
        "id": "Ie38wQvV93eZ"
      },
      "outputs": [
        {
          "output_type": "execute_result",
          "data": {
            "text/plain": [
              "       Annual_Income  Interest_Rate  Delay_from_due_date  \\\n",
              "0           0.293281       0.878788             0.983871   \n",
              "1           0.070525       0.000000             0.016129   \n",
              "2           0.247210       0.515152             0.403226   \n",
              "3           0.320371       0.848485             0.903226   \n",
              "4           0.700407       0.181818             0.225806   \n",
              "...              ...            ...                  ...   \n",
              "19995       0.177790       0.060606             0.016129   \n",
              "19996       0.131880       0.181818             0.080645   \n",
              "19997       0.160354       0.060606             0.016129   \n",
              "19998       0.307929       0.787879             0.483871   \n",
              "19999       0.417931       0.333333             0.032258   \n",
              "\n",
              "       Changed_Credit_Limit  Num_Credit_Inquiries  Credit_History_Age  \\\n",
              "0                  0.670624              0.647059            0.387097   \n",
              "1                  0.356513              0.176471            0.595533   \n",
              "2                  0.094980              0.647059            0.414392   \n",
              "3                  0.647218              0.352941            0.379653   \n",
              "4                  0.281208              0.294118            0.548387   \n",
              "...                     ...                   ...                 ...   \n",
              "19995              0.376526              0.176471            0.478908   \n",
              "19996              0.186228              0.235294            0.930521   \n",
              "19997              0.067164              0.176471            0.985112   \n",
              "19998              0.961669              0.647059            0.235732   \n",
              "19999              0.053256              0.058824            0.687345   \n",
              "\n",
              "       auto loan  credit-builder loan  debt consolidation loan  \\\n",
              "0            0.0                  1.0                      0.0   \n",
              "1            0.0                  0.0                      0.0   \n",
              "2            0.0                  1.0                      1.0   \n",
              "3            0.0                  0.0                      1.0   \n",
              "4            1.0                  0.0                      0.0   \n",
              "...          ...                  ...                      ...   \n",
              "19995        0.0                  0.0                      1.0   \n",
              "19996        0.0                  1.0                      0.0   \n",
              "19997        0.0                  1.0                      0.0   \n",
              "19998        0.0                  1.0                      1.0   \n",
              "19999        0.0                  1.0                      0.0   \n",
              "\n",
              "       home equity loan  ...  Credit_Mix_Standard  Payment_of_Min_Amount_NM  \\\n",
              "0                   1.0  ...                  0.0                       0.0   \n",
              "1                   0.0  ...                  0.0                       0.0   \n",
              "2                   0.0  ...                  1.0                       0.0   \n",
              "3                   0.0  ...                  1.0                       0.0   \n",
              "4                   1.0  ...                  0.0                       0.0   \n",
              "...                 ...  ...                  ...                       ...   \n",
              "19995               1.0  ...                  0.0                       0.0   \n",
              "19996               0.0  ...                  0.0                       0.0   \n",
              "19997               1.0  ...                  0.0                       0.0   \n",
              "19998               0.0  ...                  0.0                       0.0   \n",
              "19999               0.0  ...                  0.0                       1.0   \n",
              "\n",
              "       Payment_of_Min_Amount_No  Payment_of_Min_Amount_Yes  \\\n",
              "0                           0.0                        1.0   \n",
              "1                           1.0                        0.0   \n",
              "2                           0.0                        1.0   \n",
              "3                           0.0                        1.0   \n",
              "4                           1.0                        0.0   \n",
              "...                         ...                        ...   \n",
              "19995                       1.0                        0.0   \n",
              "19996                       1.0                        0.0   \n",
              "19997                       1.0                        0.0   \n",
              "19998                       0.0                        1.0   \n",
              "19999                       0.0                        0.0   \n",
              "\n",
              "       Payment_Behaviour_High_spent_Large_value_payments  \\\n",
              "0                                                    0.0   \n",
              "1                                                    0.0   \n",
              "2                                                    0.0   \n",
              "3                                                    1.0   \n",
              "4                                                    0.0   \n",
              "...                                                  ...   \n",
              "19995                                                0.0   \n",
              "19996                                                0.0   \n",
              "19997                                                0.0   \n",
              "19998                                                0.0   \n",
              "19999                                                0.0   \n",
              "\n",
              "       Payment_Behaviour_High_spent_Medium_value_payments  \\\n",
              "0                                                    0.0    \n",
              "1                                                    0.0    \n",
              "2                                                    0.0    \n",
              "3                                                    0.0    \n",
              "4                                                    0.0    \n",
              "...                                                  ...    \n",
              "19995                                                1.0    \n",
              "19996                                                0.0    \n",
              "19997                                                0.0    \n",
              "19998                                                1.0    \n",
              "19999                                                0.0    \n",
              "\n",
              "       Payment_Behaviour_High_spent_Small_value_payments  \\\n",
              "0                                                    0.0   \n",
              "1                                                    0.0   \n",
              "2                                                    0.0   \n",
              "3                                                    0.0   \n",
              "4                                                    0.0   \n",
              "...                                                  ...   \n",
              "19995                                                0.0   \n",
              "19996                                                1.0   \n",
              "19997                                                0.0   \n",
              "19998                                                0.0   \n",
              "19999                                                0.0   \n",
              "\n",
              "       Payment_Behaviour_Low_spent_Large_value_payments  \\\n",
              "0                                                   0.0   \n",
              "1                                                   0.0   \n",
              "2                                                   0.0   \n",
              "3                                                   0.0   \n",
              "4                                                   1.0   \n",
              "...                                                 ...   \n",
              "19995                                               0.0   \n",
              "19996                                               0.0   \n",
              "19997                                               0.0   \n",
              "19998                                               0.0   \n",
              "19999                                               1.0   \n",
              "\n",
              "       Payment_Behaviour_Low_spent_Medium_value_payments  \\\n",
              "0                                                    1.0   \n",
              "1                                                    0.0   \n",
              "2                                                    0.0   \n",
              "3                                                    0.0   \n",
              "4                                                    0.0   \n",
              "...                                                  ...   \n",
              "19995                                                0.0   \n",
              "19996                                                0.0   \n",
              "19997                                                1.0   \n",
              "19998                                                0.0   \n",
              "19999                                                0.0   \n",
              "\n",
              "       Payment_Behaviour_Low_spent_Small_value_payments  \n",
              "0                                                   0.0  \n",
              "1                                                   1.0  \n",
              "2                                                   1.0  \n",
              "3                                                   0.0  \n",
              "4                                                   0.0  \n",
              "...                                                 ...  \n",
              "19995                                               0.0  \n",
              "19996                                               0.0  \n",
              "19997                                               0.0  \n",
              "19998                                               0.0  \n",
              "19999                                               0.0  \n",
              "\n",
              "[20000 rows x 42 columns]"
            ],
            "text/html": [
              "\n",
              "  <div id=\"df-a5057c8a-ea24-419d-af21-5c20cbea15da\">\n",
              "    <div class=\"colab-df-container\">\n",
              "      <div>\n",
              "<style scoped>\n",
              "    .dataframe tbody tr th:only-of-type {\n",
              "        vertical-align: middle;\n",
              "    }\n",
              "\n",
              "    .dataframe tbody tr th {\n",
              "        vertical-align: top;\n",
              "    }\n",
              "\n",
              "    .dataframe thead th {\n",
              "        text-align: right;\n",
              "    }\n",
              "</style>\n",
              "<table border=\"1\" class=\"dataframe\">\n",
              "  <thead>\n",
              "    <tr style=\"text-align: right;\">\n",
              "      <th></th>\n",
              "      <th>Annual_Income</th>\n",
              "      <th>Interest_Rate</th>\n",
              "      <th>Delay_from_due_date</th>\n",
              "      <th>Changed_Credit_Limit</th>\n",
              "      <th>Num_Credit_Inquiries</th>\n",
              "      <th>Credit_History_Age</th>\n",
              "      <th>auto loan</th>\n",
              "      <th>credit-builder loan</th>\n",
              "      <th>debt consolidation loan</th>\n",
              "      <th>home equity loan</th>\n",
              "      <th>...</th>\n",
              "      <th>Credit_Mix_Standard</th>\n",
              "      <th>Payment_of_Min_Amount_NM</th>\n",
              "      <th>Payment_of_Min_Amount_No</th>\n",
              "      <th>Payment_of_Min_Amount_Yes</th>\n",
              "      <th>Payment_Behaviour_High_spent_Large_value_payments</th>\n",
              "      <th>Payment_Behaviour_High_spent_Medium_value_payments</th>\n",
              "      <th>Payment_Behaviour_High_spent_Small_value_payments</th>\n",
              "      <th>Payment_Behaviour_Low_spent_Large_value_payments</th>\n",
              "      <th>Payment_Behaviour_Low_spent_Medium_value_payments</th>\n",
              "      <th>Payment_Behaviour_Low_spent_Small_value_payments</th>\n",
              "    </tr>\n",
              "  </thead>\n",
              "  <tbody>\n",
              "    <tr>\n",
              "      <th>0</th>\n",
              "      <td>0.293281</td>\n",
              "      <td>0.878788</td>\n",
              "      <td>0.983871</td>\n",
              "      <td>0.670624</td>\n",
              "      <td>0.647059</td>\n",
              "      <td>0.387097</td>\n",
              "      <td>0.0</td>\n",
              "      <td>1.0</td>\n",
              "      <td>0.0</td>\n",
              "      <td>1.0</td>\n",
              "      <td>...</td>\n",
              "      <td>0.0</td>\n",
              "      <td>0.0</td>\n",
              "      <td>0.0</td>\n",
              "      <td>1.0</td>\n",
              "      <td>0.0</td>\n",
              "      <td>0.0</td>\n",
              "      <td>0.0</td>\n",
              "      <td>0.0</td>\n",
              "      <td>1.0</td>\n",
              "      <td>0.0</td>\n",
              "    </tr>\n",
              "    <tr>\n",
              "      <th>1</th>\n",
              "      <td>0.070525</td>\n",
              "      <td>0.000000</td>\n",
              "      <td>0.016129</td>\n",
              "      <td>0.356513</td>\n",
              "      <td>0.176471</td>\n",
              "      <td>0.595533</td>\n",
              "      <td>0.0</td>\n",
              "      <td>0.0</td>\n",
              "      <td>0.0</td>\n",
              "      <td>0.0</td>\n",
              "      <td>...</td>\n",
              "      <td>0.0</td>\n",
              "      <td>0.0</td>\n",
              "      <td>1.0</td>\n",
              "      <td>0.0</td>\n",
              "      <td>0.0</td>\n",
              "      <td>0.0</td>\n",
              "      <td>0.0</td>\n",
              "      <td>0.0</td>\n",
              "      <td>0.0</td>\n",
              "      <td>1.0</td>\n",
              "    </tr>\n",
              "    <tr>\n",
              "      <th>2</th>\n",
              "      <td>0.247210</td>\n",
              "      <td>0.515152</td>\n",
              "      <td>0.403226</td>\n",
              "      <td>0.094980</td>\n",
              "      <td>0.647059</td>\n",
              "      <td>0.414392</td>\n",
              "      <td>0.0</td>\n",
              "      <td>1.0</td>\n",
              "      <td>1.0</td>\n",
              "      <td>0.0</td>\n",
              "      <td>...</td>\n",
              "      <td>1.0</td>\n",
              "      <td>0.0</td>\n",
              "      <td>0.0</td>\n",
              "      <td>1.0</td>\n",
              "      <td>0.0</td>\n",
              "      <td>0.0</td>\n",
              "      <td>0.0</td>\n",
              "      <td>0.0</td>\n",
              "      <td>0.0</td>\n",
              "      <td>1.0</td>\n",
              "    </tr>\n",
              "    <tr>\n",
              "      <th>3</th>\n",
              "      <td>0.320371</td>\n",
              "      <td>0.848485</td>\n",
              "      <td>0.903226</td>\n",
              "      <td>0.647218</td>\n",
              "      <td>0.352941</td>\n",
              "      <td>0.379653</td>\n",
              "      <td>0.0</td>\n",
              "      <td>0.0</td>\n",
              "      <td>1.0</td>\n",
              "      <td>0.0</td>\n",
              "      <td>...</td>\n",
              "      <td>1.0</td>\n",
              "      <td>0.0</td>\n",
              "      <td>0.0</td>\n",
              "      <td>1.0</td>\n",
              "      <td>1.0</td>\n",
              "      <td>0.0</td>\n",
              "      <td>0.0</td>\n",
              "      <td>0.0</td>\n",
              "      <td>0.0</td>\n",
              "      <td>0.0</td>\n",
              "    </tr>\n",
              "    <tr>\n",
              "      <th>4</th>\n",
              "      <td>0.700407</td>\n",
              "      <td>0.181818</td>\n",
              "      <td>0.225806</td>\n",
              "      <td>0.281208</td>\n",
              "      <td>0.294118</td>\n",
              "      <td>0.548387</td>\n",
              "      <td>1.0</td>\n",
              "      <td>0.0</td>\n",
              "      <td>0.0</td>\n",
              "      <td>1.0</td>\n",
              "      <td>...</td>\n",
              "      <td>0.0</td>\n",
              "      <td>0.0</td>\n",
              "      <td>1.0</td>\n",
              "      <td>0.0</td>\n",
              "      <td>0.0</td>\n",
              "      <td>0.0</td>\n",
              "      <td>0.0</td>\n",
              "      <td>1.0</td>\n",
              "      <td>0.0</td>\n",
              "      <td>0.0</td>\n",
              "    </tr>\n",
              "    <tr>\n",
              "      <th>...</th>\n",
              "      <td>...</td>\n",
              "      <td>...</td>\n",
              "      <td>...</td>\n",
              "      <td>...</td>\n",
              "      <td>...</td>\n",
              "      <td>...</td>\n",
              "      <td>...</td>\n",
              "      <td>...</td>\n",
              "      <td>...</td>\n",
              "      <td>...</td>\n",
              "      <td>...</td>\n",
              "      <td>...</td>\n",
              "      <td>...</td>\n",
              "      <td>...</td>\n",
              "      <td>...</td>\n",
              "      <td>...</td>\n",
              "      <td>...</td>\n",
              "      <td>...</td>\n",
              "      <td>...</td>\n",
              "      <td>...</td>\n",
              "      <td>...</td>\n",
              "    </tr>\n",
              "    <tr>\n",
              "      <th>19995</th>\n",
              "      <td>0.177790</td>\n",
              "      <td>0.060606</td>\n",
              "      <td>0.016129</td>\n",
              "      <td>0.376526</td>\n",
              "      <td>0.176471</td>\n",
              "      <td>0.478908</td>\n",
              "      <td>0.0</td>\n",
              "      <td>0.0</td>\n",
              "      <td>1.0</td>\n",
              "      <td>1.0</td>\n",
              "      <td>...</td>\n",
              "      <td>0.0</td>\n",
              "      <td>0.0</td>\n",
              "      <td>1.0</td>\n",
              "      <td>0.0</td>\n",
              "      <td>0.0</td>\n",
              "      <td>1.0</td>\n",
              "      <td>0.0</td>\n",
              "      <td>0.0</td>\n",
              "      <td>0.0</td>\n",
              "      <td>0.0</td>\n",
              "    </tr>\n",
              "    <tr>\n",
              "      <th>19996</th>\n",
              "      <td>0.131880</td>\n",
              "      <td>0.181818</td>\n",
              "      <td>0.080645</td>\n",
              "      <td>0.186228</td>\n",
              "      <td>0.235294</td>\n",
              "      <td>0.930521</td>\n",
              "      <td>0.0</td>\n",
              "      <td>1.0</td>\n",
              "      <td>0.0</td>\n",
              "      <td>0.0</td>\n",
              "      <td>...</td>\n",
              "      <td>0.0</td>\n",
              "      <td>0.0</td>\n",
              "      <td>1.0</td>\n",
              "      <td>0.0</td>\n",
              "      <td>0.0</td>\n",
              "      <td>0.0</td>\n",
              "      <td>1.0</td>\n",
              "      <td>0.0</td>\n",
              "      <td>0.0</td>\n",
              "      <td>0.0</td>\n",
              "    </tr>\n",
              "    <tr>\n",
              "      <th>19997</th>\n",
              "      <td>0.160354</td>\n",
              "      <td>0.060606</td>\n",
              "      <td>0.016129</td>\n",
              "      <td>0.067164</td>\n",
              "      <td>0.176471</td>\n",
              "      <td>0.985112</td>\n",
              "      <td>0.0</td>\n",
              "      <td>1.0</td>\n",
              "      <td>0.0</td>\n",
              "      <td>1.0</td>\n",
              "      <td>...</td>\n",
              "      <td>0.0</td>\n",
              "      <td>0.0</td>\n",
              "      <td>1.0</td>\n",
              "      <td>0.0</td>\n",
              "      <td>0.0</td>\n",
              "      <td>0.0</td>\n",
              "      <td>0.0</td>\n",
              "      <td>0.0</td>\n",
              "      <td>1.0</td>\n",
              "      <td>0.0</td>\n",
              "    </tr>\n",
              "    <tr>\n",
              "      <th>19998</th>\n",
              "      <td>0.307929</td>\n",
              "      <td>0.787879</td>\n",
              "      <td>0.483871</td>\n",
              "      <td>0.961669</td>\n",
              "      <td>0.647059</td>\n",
              "      <td>0.235732</td>\n",
              "      <td>0.0</td>\n",
              "      <td>1.0</td>\n",
              "      <td>1.0</td>\n",
              "      <td>0.0</td>\n",
              "      <td>...</td>\n",
              "      <td>0.0</td>\n",
              "      <td>0.0</td>\n",
              "      <td>0.0</td>\n",
              "      <td>1.0</td>\n",
              "      <td>0.0</td>\n",
              "      <td>1.0</td>\n",
              "      <td>0.0</td>\n",
              "      <td>0.0</td>\n",
              "      <td>0.0</td>\n",
              "      <td>0.0</td>\n",
              "    </tr>\n",
              "    <tr>\n",
              "      <th>19999</th>\n",
              "      <td>0.417931</td>\n",
              "      <td>0.333333</td>\n",
              "      <td>0.032258</td>\n",
              "      <td>0.053256</td>\n",
              "      <td>0.058824</td>\n",
              "      <td>0.687345</td>\n",
              "      <td>0.0</td>\n",
              "      <td>1.0</td>\n",
              "      <td>0.0</td>\n",
              "      <td>0.0</td>\n",
              "      <td>...</td>\n",
              "      <td>0.0</td>\n",
              "      <td>1.0</td>\n",
              "      <td>0.0</td>\n",
              "      <td>0.0</td>\n",
              "      <td>0.0</td>\n",
              "      <td>0.0</td>\n",
              "      <td>0.0</td>\n",
              "      <td>1.0</td>\n",
              "      <td>0.0</td>\n",
              "      <td>0.0</td>\n",
              "    </tr>\n",
              "  </tbody>\n",
              "</table>\n",
              "<p>20000 rows × 42 columns</p>\n",
              "</div>\n",
              "      <button class=\"colab-df-convert\" onclick=\"convertToInteractive('df-a5057c8a-ea24-419d-af21-5c20cbea15da')\"\n",
              "              title=\"Convert this dataframe to an interactive table.\"\n",
              "              style=\"display:none;\">\n",
              "        \n",
              "  <svg xmlns=\"http://www.w3.org/2000/svg\" height=\"24px\"viewBox=\"0 0 24 24\"\n",
              "       width=\"24px\">\n",
              "    <path d=\"M0 0h24v24H0V0z\" fill=\"none\"/>\n",
              "    <path d=\"M18.56 5.44l.94 2.06.94-2.06 2.06-.94-2.06-.94-.94-2.06-.94 2.06-2.06.94zm-11 1L8.5 8.5l.94-2.06 2.06-.94-2.06-.94L8.5 2.5l-.94 2.06-2.06.94zm10 10l.94 2.06.94-2.06 2.06-.94-2.06-.94-.94-2.06-.94 2.06-2.06.94z\"/><path d=\"M17.41 7.96l-1.37-1.37c-.4-.4-.92-.59-1.43-.59-.52 0-1.04.2-1.43.59L10.3 9.45l-7.72 7.72c-.78.78-.78 2.05 0 2.83L4 21.41c.39.39.9.59 1.41.59.51 0 1.02-.2 1.41-.59l7.78-7.78 2.81-2.81c.8-.78.8-2.07 0-2.86zM5.41 20L4 18.59l7.72-7.72 1.47 1.35L5.41 20z\"/>\n",
              "  </svg>\n",
              "      </button>\n",
              "      \n",
              "  <style>\n",
              "    .colab-df-container {\n",
              "      display:flex;\n",
              "      flex-wrap:wrap;\n",
              "      gap: 12px;\n",
              "    }\n",
              "\n",
              "    .colab-df-convert {\n",
              "      background-color: #E8F0FE;\n",
              "      border: none;\n",
              "      border-radius: 50%;\n",
              "      cursor: pointer;\n",
              "      display: none;\n",
              "      fill: #1967D2;\n",
              "      height: 32px;\n",
              "      padding: 0 0 0 0;\n",
              "      width: 32px;\n",
              "    }\n",
              "\n",
              "    .colab-df-convert:hover {\n",
              "      background-color: #E2EBFA;\n",
              "      box-shadow: 0px 1px 2px rgba(60, 64, 67, 0.3), 0px 1px 3px 1px rgba(60, 64, 67, 0.15);\n",
              "      fill: #174EA6;\n",
              "    }\n",
              "\n",
              "    [theme=dark] .colab-df-convert {\n",
              "      background-color: #3B4455;\n",
              "      fill: #D2E3FC;\n",
              "    }\n",
              "\n",
              "    [theme=dark] .colab-df-convert:hover {\n",
              "      background-color: #434B5C;\n",
              "      box-shadow: 0px 1px 3px 1px rgba(0, 0, 0, 0.15);\n",
              "      filter: drop-shadow(0px 1px 2px rgba(0, 0, 0, 0.3));\n",
              "      fill: #FFFFFF;\n",
              "    }\n",
              "  </style>\n",
              "\n",
              "      <script>\n",
              "        const buttonEl =\n",
              "          document.querySelector('#df-a5057c8a-ea24-419d-af21-5c20cbea15da button.colab-df-convert');\n",
              "        buttonEl.style.display =\n",
              "          google.colab.kernel.accessAllowed ? 'block' : 'none';\n",
              "\n",
              "        async function convertToInteractive(key) {\n",
              "          const element = document.querySelector('#df-a5057c8a-ea24-419d-af21-5c20cbea15da');\n",
              "          const dataTable =\n",
              "            await google.colab.kernel.invokeFunction('convertToInteractive',\n",
              "                                                     [key], {});\n",
              "          if (!dataTable) return;\n",
              "\n",
              "          const docLinkHtml = 'Like what you see? Visit the ' +\n",
              "            '<a target=\"_blank\" href=https://colab.research.google.com/notebooks/data_table.ipynb>data table notebook</a>'\n",
              "            + ' to learn more about interactive tables.';\n",
              "          element.innerHTML = '';\n",
              "          dataTable['output_type'] = 'display_data';\n",
              "          await google.colab.output.renderOutput(dataTable, element);\n",
              "          const docLink = document.createElement('div');\n",
              "          docLink.innerHTML = docLinkHtml;\n",
              "          element.appendChild(docLink);\n",
              "        }\n",
              "      </script>\n",
              "    </div>\n",
              "  </div>\n",
              "  "
            ]
          },
          "metadata": {},
          "execution_count": 345
        }
      ],
      "source": [
        "oe = OrdinalEncoder()\n",
        "\n",
        "#df_test[['Num_Bank_Accounts', 'Num_Credit_Card', 'Num_of_Loan', 'Num_of_Delayed_Payment', 'Credit_Mix', 'Payment_Behaviour', 'Payment_of_Min_Amount']] = oe.fit_transform(df_test[['Num_Bank_Accounts', 'Num_Credit_Card', 'Num_of_Loan', 'Num_of_Delayed_Payment', 'Credit_Mix', 'Payment_Behaviour', 'Payment_of_Min_Amount']])\n",
        "df_test = pd.get_dummies(df_test)\n",
        "\n",
        "df_test = normalize(df_test)\n",
        "\n",
        "df_test"
      ]
    },
    {
      "cell_type": "markdown",
      "metadata": {
        "id": "1sVbHA0lGcXs"
      },
      "source": [
        "## Entrenamiento"
      ]
    },
    {
      "cell_type": "code",
      "source": [
        "credit_score = y\n",
        "credit_score_ordinal = []\n",
        "for row in credit_score:\n",
        "  if row == \"Poor\":\n",
        "    credit_score_ordinal.append(0)\n",
        "  if row == \"Standard\":\n",
        "    credit_score_ordinal.append(1)\n",
        "  if row == \"Good\":\n",
        "    credit_score_ordinal.append(2)\n",
        "y = credit_score_ordinal"
      ],
      "metadata": {
        "id": "_I1fbxMMYSTQ"
      },
      "execution_count": 346,
      "outputs": []
    },
    {
      "cell_type": "code",
      "source": [
        "len(y)"
      ],
      "metadata": {
        "colab": {
          "base_uri": "https://localhost:8080/"
        },
        "id": "9oyH0xGqT39S",
        "outputId": "08adbd08-8701-4677-a9a7-e1f4eb6b49ec"
      },
      "execution_count": 347,
      "outputs": [
        {
          "output_type": "execute_result",
          "data": {
            "text/plain": [
              "80000"
            ]
          },
          "metadata": {},
          "execution_count": 347
        }
      ]
    },
    {
      "cell_type": "code",
      "source": [
        "import xgboost\n",
        "from sklearn.model_selection import train_test_split\n",
        "\n",
        "\n",
        "X = df_train  #.iloc[:,:-1]\n",
        "y = credit_score_ordinal\n",
        "\n",
        "X_train, X_test, y_train, y_test = train_test_split(X, y, test_size=0.33, random_state=42)\n",
        "'''\n",
        "xgb = xgboost.XGBClassifier(\n",
        "    max_depth=9,\n",
        "    learning_rate=0.1,\n",
        "    n_estimators=300, 500\n",
        "    reg_alpha=1.1,\n",
        "    colsample_bytree = 0.9, \n",
        "    subsample = 0.9,\n",
        "    n_jobs = 5,\n",
        "    objective='multi:softmax',\n",
        "    num_class=3,\n",
        "    random_state=42\n",
        ")'''\n",
        "\n",
        "xgb = xgboost.XGBClassifier(\n",
        "    max_depth=9,\n",
        "    learning_rate=0.1,\n",
        "    n_estimators=300,\n",
        "    reg_alpha=1.1,\n",
        "    colsample_bytree = 0.9, \n",
        "    subsample = 0.9,\n",
        "    n_jobs = 5,\n",
        "    objective='multi:softmax',\n",
        "    num_class=3,\n",
        "    random_state=42\n",
        ")\n",
        "\n",
        "\n",
        "'''\n",
        "params = {\n",
        "    'max_depth': [3, 6, 9],\n",
        "    'learning_rate': [0.001, 0.01, 0.1, 1],\n",
        "    'gamma': [0.01, 0.1]\n",
        "}\n",
        "\n",
        "gs2 = GridSearchCV(xgboost.XGBClassifier(n_jobs=-1), params, n_jobs=-1, cv=KFold(n_splits=3), scoring='roc_auc')\n",
        "\n",
        "gs2.fit(X_train, y_train) \n",
        "\n",
        "'''\n",
        "xgb.fit(X_train, y_train) \n",
        "\n",
        "y_pred = xgb.predict(X_train)                         # train\n",
        "y_pred_test = xgb.predict(X_test)\n",
        "y_pred_dftest = xgb.predict(df_test)\n",
        "#grid_search.best_estimator_\n",
        "'''\n",
        "print('Best score:', gs2.best_score_)\n",
        "print('Best score:', gs2.best_params_)\n",
        "'''"
      ],
      "metadata": {
        "colab": {
          "base_uri": "https://localhost:8080/",
          "height": 36
        },
        "id": "gcGpRgcJX-hm",
        "outputId": "53289227-036a-4d90-b814-059833fae44a"
      },
      "execution_count": 348,
      "outputs": [
        {
          "output_type": "execute_result",
          "data": {
            "text/plain": [
              "\"\\nprint('Best score:', gs2.best_score_)\\nprint('Best score:', gs2.best_params_)\\n\""
            ],
            "application/vnd.google.colaboratory.intrinsic+json": {
              "type": "string"
            }
          },
          "metadata": {},
          "execution_count": 348
        }
      ]
    },
    {
      "cell_type": "code",
      "source": [
        "grid_search.best_estimator_"
      ],
      "metadata": {
        "id": "1diQJDx-qJeA"
      },
      "execution_count": null,
      "outputs": []
    },
    {
      "cell_type": "code",
      "source": [
        "from sklearn.metrics import f1_score\n",
        "print(f1_score(y_train, y_pred, average=\"macro\"))               # train\n",
        "print(f1_score(y_test, y_pred_test, average=\"macro\"))               # test"
      ],
      "metadata": {
        "colab": {
          "base_uri": "https://localhost:8080/"
        },
        "id": "VwerQ3ygYP55",
        "outputId": "34c9341b-dd5a-443a-a909-b3f26a682559"
      },
      "execution_count": 349,
      "outputs": [
        {
          "output_type": "stream",
          "name": "stdout",
          "text": [
            "0.9256871676649819\n",
            "0.7774667154607192\n"
          ]
        }
      ]
    },
    {
      "cell_type": "markdown",
      "source": [
        "## Random Forest (NO)"
      ],
      "metadata": {
        "id": "Nmb2D_TEcDJr"
      }
    },
    {
      "cell_type": "code",
      "source": [
        "#Importing Libraries\n",
        "import numpy as np\n",
        "import pandas as pd\n",
        "from sklearn.model_selection import train_test_split\n",
        "from sklearn.preprocessing import StandardScaler\n",
        "from sklearn.ensemble import RandomForestClassifier\n",
        "from sklearn.metrics import confusion_matrix\n",
        "\n",
        "# https://medium.com/analytics-vidhya/random-forest-classifier-and-its-hyperparameters-8467bec755f6\n",
        "\n",
        "X = df_train.iloc[:,:-1]\n",
        "\n",
        "# Fitting Random Forest Classification to the Training set\n",
        "X_train, X_test, y_train, y_test = train_test_split(X, y, test_size=0.5, random_state=0)\n",
        "\n",
        "\n",
        "# Feature Scaling\n",
        "scaler = StandardScaler()\n",
        "X_train = scaler.fit_transform(X_train)\n",
        "X_test = scaler.transform(X_test)\n",
        "\n",
        "\n",
        "classifier = RandomForestClassifier(n_estimators = 10, criterion = 'entropy', random_state = 42, max_depth = 9, max_features = 10)\n",
        "classifier.fit(X_train, y_train)\n",
        "\n",
        "y_pred_train = classifier.predict(X_train)\n",
        "y_pred = classifier.predict(X_test)\n",
        "y_pred_test = classifier.predict(df_test)\n",
        "\n",
        "from sklearn.metrics import f1_score\n",
        "print(f1_score(y_train, y_pred_train, average=None))\n",
        "print(f1_score(y_test, y_pred, average=None))\n",
        "# print(f\"The score is: {f1}\") "
      ],
      "metadata": {
        "colab": {
          "base_uri": "https://localhost:8080/"
        },
        "id": "ux6V-DvIAibj",
        "outputId": "be291fc7-96b8-4c03-ba4e-30e627ea4552"
      },
      "execution_count": 85,
      "outputs": [
        {
          "output_type": "stream",
          "name": "stdout",
          "text": [
            "[0.72653612 0.76910592 0.62250119]\n",
            "[0.70596699 0.7515832  0.5990991 ]\n"
          ]
        },
        {
          "output_type": "stream",
          "name": "stderr",
          "text": [
            "/usr/local/lib/python3.7/dist-packages/sklearn/base.py:444: UserWarning: X has feature names, but RandomForestClassifier was fitted without feature names\n",
            "  f\"X has feature names, but {self.__class__.__name__} was fitted without\"\n"
          ]
        }
      ]
    },
    {
      "cell_type": "code",
      "execution_count": null,
      "metadata": {
        "colab": {
          "base_uri": "https://localhost:8080/",
          "height": 415
        },
        "id": "BrwYJaRoUQDd",
        "outputId": "05bace13-9f54-430e-a67e-37a92c6e11f4"
      },
      "outputs": [
        {
          "output_type": "stream",
          "name": "stderr",
          "text": [
            "/usr/local/lib/python3.7/dist-packages/sklearn/naive_bayes.py:557: UserWarning: alpha too small will result in numeric errors, setting alpha = 1.0e-10\n",
            "  % _ALPHA_MIN\n"
          ]
        },
        {
          "output_type": "error",
          "ename": "IndexError",
          "evalue": "ignored",
          "traceback": [
            "\u001b[0;31m---------------------------------------------------------------------------\u001b[0m",
            "\u001b[0;31mIndexError\u001b[0m                                Traceback (most recent call last)",
            "\u001b[0;32m<ipython-input-53-aa7748989917>\u001b[0m in \u001b[0;36m<module>\u001b[0;34m\u001b[0m\n\u001b[1;32m     11\u001b[0m \u001b[0;34m\u001b[0m\u001b[0m\n\u001b[1;32m     12\u001b[0m \u001b[0mclf\u001b[0m\u001b[0;34m.\u001b[0m\u001b[0mfit\u001b[0m\u001b[0;34m(\u001b[0m\u001b[0mX_train\u001b[0m\u001b[0;34m,\u001b[0m \u001b[0my_train\u001b[0m\u001b[0;34m)\u001b[0m\u001b[0;34m\u001b[0m\u001b[0;34m\u001b[0m\u001b[0m\n\u001b[0;32m---> 13\u001b[0;31m \u001b[0mputa_pred\u001b[0m \u001b[0;34m=\u001b[0m \u001b[0mclf\u001b[0m\u001b[0;34m.\u001b[0m\u001b[0mpredict\u001b[0m\u001b[0;34m(\u001b[0m\u001b[0mX_test\u001b[0m\u001b[0;34m)\u001b[0m\u001b[0;34m\u001b[0m\u001b[0;34m\u001b[0m\u001b[0m\n\u001b[0m\u001b[1;32m     14\u001b[0m \u001b[0;34m\u001b[0m\u001b[0m\n\u001b[1;32m     15\u001b[0m \u001b[0mputa_pred\u001b[0m\u001b[0;34m\u001b[0m\u001b[0;34m\u001b[0m\u001b[0m\n",
            "\u001b[0;32m/usr/local/lib/python3.7/dist-packages/sklearn/naive_bayes.py\u001b[0m in \u001b[0;36mpredict\u001b[0;34m(self, X)\u001b[0m\n\u001b[1;32m     81\u001b[0m         \u001b[0mcheck_is_fitted\u001b[0m\u001b[0;34m(\u001b[0m\u001b[0mself\u001b[0m\u001b[0;34m)\u001b[0m\u001b[0;34m\u001b[0m\u001b[0;34m\u001b[0m\u001b[0m\n\u001b[1;32m     82\u001b[0m         \u001b[0mX\u001b[0m \u001b[0;34m=\u001b[0m \u001b[0mself\u001b[0m\u001b[0;34m.\u001b[0m\u001b[0m_check_X\u001b[0m\u001b[0;34m(\u001b[0m\u001b[0mX\u001b[0m\u001b[0;34m)\u001b[0m\u001b[0;34m\u001b[0m\u001b[0;34m\u001b[0m\u001b[0m\n\u001b[0;32m---> 83\u001b[0;31m         \u001b[0mjll\u001b[0m \u001b[0;34m=\u001b[0m \u001b[0mself\u001b[0m\u001b[0;34m.\u001b[0m\u001b[0m_joint_log_likelihood\u001b[0m\u001b[0;34m(\u001b[0m\u001b[0mX\u001b[0m\u001b[0;34m)\u001b[0m\u001b[0;34m\u001b[0m\u001b[0;34m\u001b[0m\u001b[0m\n\u001b[0m\u001b[1;32m     84\u001b[0m         \u001b[0;32mreturn\u001b[0m \u001b[0mself\u001b[0m\u001b[0;34m.\u001b[0m\u001b[0mclasses_\u001b[0m\u001b[0;34m[\u001b[0m\u001b[0mnp\u001b[0m\u001b[0;34m.\u001b[0m\u001b[0margmax\u001b[0m\u001b[0;34m(\u001b[0m\u001b[0mjll\u001b[0m\u001b[0;34m,\u001b[0m \u001b[0maxis\u001b[0m\u001b[0;34m=\u001b[0m\u001b[0;36m1\u001b[0m\u001b[0;34m)\u001b[0m\u001b[0;34m]\u001b[0m\u001b[0;34m\u001b[0m\u001b[0;34m\u001b[0m\u001b[0m\n\u001b[1;32m     85\u001b[0m \u001b[0;34m\u001b[0m\u001b[0m\n",
            "\u001b[0;32m/usr/local/lib/python3.7/dist-packages/sklearn/naive_bayes.py\u001b[0m in \u001b[0;36m_joint_log_likelihood\u001b[0;34m(self, X)\u001b[0m\n\u001b[1;32m   1459\u001b[0m         \u001b[0;32mfor\u001b[0m \u001b[0mi\u001b[0m \u001b[0;32min\u001b[0m \u001b[0mrange\u001b[0m\u001b[0;34m(\u001b[0m\u001b[0mself\u001b[0m\u001b[0;34m.\u001b[0m\u001b[0mn_features_in_\u001b[0m\u001b[0;34m)\u001b[0m\u001b[0;34m:\u001b[0m\u001b[0;34m\u001b[0m\u001b[0;34m\u001b[0m\u001b[0m\n\u001b[1;32m   1460\u001b[0m             \u001b[0mindices\u001b[0m \u001b[0;34m=\u001b[0m \u001b[0mX\u001b[0m\u001b[0;34m[\u001b[0m\u001b[0;34m:\u001b[0m\u001b[0;34m,\u001b[0m \u001b[0mi\u001b[0m\u001b[0;34m]\u001b[0m\u001b[0;34m\u001b[0m\u001b[0;34m\u001b[0m\u001b[0m\n\u001b[0;32m-> 1461\u001b[0;31m             \u001b[0mjll\u001b[0m \u001b[0;34m+=\u001b[0m \u001b[0mself\u001b[0m\u001b[0;34m.\u001b[0m\u001b[0mfeature_log_prob_\u001b[0m\u001b[0;34m[\u001b[0m\u001b[0mi\u001b[0m\u001b[0;34m]\u001b[0m\u001b[0;34m[\u001b[0m\u001b[0;34m:\u001b[0m\u001b[0;34m,\u001b[0m \u001b[0mindices\u001b[0m\u001b[0;34m]\u001b[0m\u001b[0;34m.\u001b[0m\u001b[0mT\u001b[0m\u001b[0;34m\u001b[0m\u001b[0;34m\u001b[0m\u001b[0m\n\u001b[0m\u001b[1;32m   1462\u001b[0m         \u001b[0mtotal_ll\u001b[0m \u001b[0;34m=\u001b[0m \u001b[0mjll\u001b[0m \u001b[0;34m+\u001b[0m \u001b[0mself\u001b[0m\u001b[0;34m.\u001b[0m\u001b[0mclass_log_prior_\u001b[0m\u001b[0;34m\u001b[0m\u001b[0;34m\u001b[0m\u001b[0m\n\u001b[1;32m   1463\u001b[0m         \u001b[0;32mreturn\u001b[0m \u001b[0mtotal_ll\u001b[0m\u001b[0;34m\u001b[0m\u001b[0;34m\u001b[0m\u001b[0m\n",
            "\u001b[0;31mIndexError\u001b[0m: index 79998 is out of bounds for axis 1 with size 79998"
          ]
        }
      ],
      "source": [
        "# Hyperparameter Tuning to improve Accuracy\n",
        "\n",
        "# https://www.kaggle.com/code/akshaysharma001/naive-bayes-with-hyperpameter-tuning\n",
        "\n",
        "\n",
        "\n",
        "from sklearn.naive_bayes import CategoricalNB\n",
        "\n",
        "X_train, X_test, y_train, y_test = train_test_split(X, y, test_size=0.5, random_state=0)\n",
        "clf = CategoricalNB(alpha=0)\n",
        "\n",
        "clf.fit(X_train, y_train)\n",
        "y_pred = clf.predict(X_test)\n",
        "\n",
        "y_pred"
      ]
    },
    {
      "cell_type": "code",
      "execution_count": 144,
      "metadata": {
        "colab": {
          "base_uri": "https://localhost:8080/",
          "height": 316
        },
        "id": "OCaxEKCvXDP1",
        "outputId": "3846e20e-8837-4044-da37-aa136cb9ae9b"
      },
      "outputs": [
        {
          "output_type": "stream",
          "name": "stderr",
          "text": [
            "/usr/local/lib/python3.7/dist-packages/sklearn/utils/deprecation.py:87: FutureWarning: Function plot_confusion_matrix is deprecated; Function `plot_confusion_matrix` is deprecated in 1.0 and will be removed in 1.2. Use one of the class methods: ConfusionMatrixDisplay.from_predictions or ConfusionMatrixDisplay.from_estimator.\n",
            "  warnings.warn(msg, category=FutureWarning)\n"
          ]
        },
        {
          "output_type": "display_data",
          "data": {
            "text/plain": [
              "<Figure size 432x288 with 2 Axes>"
            ],
            "image/png": "[encoded data removed]"
          },
          "metadata": {
            "needs_background": "light"
          }
        }
      ],
      "source": [
        "from sklearn.metrics import plot_confusion_matrix\n",
        "\n",
        "plot_confusion_matrix(classifier, X_test, y_test)\n",
        "plt.show()"
      ]
    },
    {
      "cell_type": "code",
      "execution_count": 134,
      "metadata": {
        "colab": {
          "base_uri": "https://localhost:8080/"
        },
        "id": "9eQ_a9J8VQD3",
        "outputId": "919f446e-83d1-4b3e-9239-ea91196c7706"
      },
      "outputs": [
        {
          "output_type": "stream",
          "name": "stdout",
          "text": [
            "The score is: [0.62287842 0.70127997 0.74923147]\n"
          ]
        }
      ],
      "source": [
        "# Calculamos f1_score\n",
        "\n",
        "from sklearn.metrics import f1_score\n",
        "f1 = f1_score(y_test, y_pred, average=None)\n",
        "print(f\"The score is: {f1}\") "
      ]
    },
    {
      "cell_type": "markdown",
      "source": [
        "## Otros"
      ],
      "metadata": {
        "id": "VLGg-OpvcRGz"
      }
    },
    {
      "cell_type": "code",
      "source": [
        "submission['Credit_Score'] = y_pred_dftest\n",
        "\n",
        "submission.to_csv(\"ML_GRUPO7.csv\", index=False)"
      ],
      "metadata": {
        "id": "QQFADQgc-gRE"
      },
      "execution_count": 350,
      "outputs": []
    },
    {
      "cell_type": "code",
      "source": [
        "submission.Credit_Score = submission.Credit_Score.replace({0: \"Poor\", 1: \"Standard\", 2: \"Good\"})"
      ],
      "metadata": {
        "id": "0qMgs1DI-sSH"
      },
      "execution_count": 351,
      "outputs": []
    },
    {
      "cell_type": "code",
      "source": [
        "from google.colab import files\n",
        "submission.to_csv('submission_grupo7.csv', index=False) \n",
        "files.download('submission_grupo7.csv')"
      ],
      "metadata": {
        "colab": {
          "base_uri": "https://localhost:8080/",
          "height": 17
        },
        "id": "-4UVla6V-jGq",
        "outputId": "270e0ab1-6fa5-4a4e-ce0e-8c058e0d8994"
      },
      "execution_count": 352,
      "outputs": [
        {
          "output_type": "display_data",
          "data": {
            "text/plain": [
              "<IPython.core.display.Javascript object>"
            ],
            "application/javascript": [
              "\n",
              "    async function download(id, filename, size) {\n",
              "      if (!google.colab.kernel.accessAllowed) {\n",
              "        return;\n",
              "      }\n",
              "      const div = document.createElement('div');\n",
              "      const label = document.createElement('label');\n",
              "      label.textContent = `Downloading \"${filename}\": `;\n",
              "      div.appendChild(label);\n",
              "      const progress = document.createElement('progress');\n",
              "      progress.max = size;\n",
              "      div.appendChild(progress);\n",
              "      document.body.appendChild(div);\n",
              "\n",
              "      const buffers = [];\n",
              "      let downloaded = 0;\n",
              "\n",
              "      const channel = await google.colab.kernel.comms.open(id);\n",
              "      // Send a message to notify the kernel that we're ready.\n",
              "      channel.send({})\n",
              "\n",
              "      for await (const message of channel.messages) {\n",
              "        // Send a message to notify the kernel that we're ready.\n",
              "        channel.send({})\n",
              "        if (message.buffers) {\n",
              "          for (const buffer of message.buffers) {\n",
              "            buffers.push(buffer);\n",
              "            downloaded += buffer.byteLength;\n",
              "            progress.value = downloaded;\n",
              "          }\n",
              "        }\n",
              "      }\n",
              "      const blob = new Blob(buffers, {type: 'application/binary'});\n",
              "      const a = document.createElement('a');\n",
              "      a.href = window.URL.createObjectURL(blob);\n",
              "      a.download = filename;\n",
              "      div.appendChild(a);\n",
              "      a.click();\n",
              "      div.remove();\n",
              "    }\n",
              "  "
            ]
          },
          "metadata": {}
        },
        {
          "output_type": "display_data",
          "data": {
            "text/plain": [
              "<IPython.core.display.Javascript object>"
            ],
            "application/javascript": [
              "download(\"download_71b315d2-f0ee-4cb5-9d83-189595c32521\", \"submission_grupo7.csv\", 269773)"
            ]
          },
          "metadata": {}
        }
      ]
    },
    {
      "cell_type": "markdown",
      "metadata": {
        "id": "QtrVF0gc2aaf"
      },
      "source": [
        "## Cosas Guarras (IGNORAR)"
      ]
    },
    {
      "cell_type": "markdown",
      "metadata": {
        "id": "G1qzI0FfKJ1Y"
      },
      "source": [
        "https://es.stackoverflow.com/questions/398654/como-ordenar-porcentajes-en-grafica-de-barras\n",
        "\n",
        "\n",
        "\n",
        "Plot correlation in pandas\n",
        "\n",
        "https://www.stackvidhya.com/plot-correlation-matrix-in-pandas-python/\n",
        "\n",
        "\n",
        "Tablas y cosas chulas\n",
        "\n",
        "https://relopezbriega.github.io/blog/2016/02/29/analisis-de-datos-categoricos-con-python/"
      ]
    },
    {
      "cell_type": "code",
      "execution_count": null,
      "metadata": {
        "id": "qf3NCS0Ti0-M"
      },
      "outputs": [],
      "source": [
        "# GUARRADAS Y PRUEBAS GUARRAS"
      ]
    },
    {
      "cell_type": "code",
      "execution_count": null,
      "metadata": {
        "colab": {
          "base_uri": "https://localhost:8080/",
          "height": 301
        },
        "id": "VnkmB6ODi-eW",
        "outputId": "ca2d59c5-5109-46bb-a517-14f3e02f9024"
      },
      "outputs": [
        {
          "data": {
            "image/png": "[encoded data removed]",
            "text/plain": [
              "<Figure size 432x288 with 1 Axes>"
            ]
          },
          "metadata": {},
          "output_type": "display_data"
        }
      ],
      "source": [
        "# Month\n",
        "# Representa el mes del año en el que se actualizó la información\n",
        "# \n",
        "valores = [-math.inf, 50000, 90000, math.inf]\n",
        "tres_categorias = [\"Bajo\", \"Medio\", \"Alto\"]\n",
        "\n",
        "df_train[\"Annual_Income\"] = pd.cut(x=df_train[\"Annual_Income\"], bins=valores, labels=tres_categorias)\n",
        "\n",
        "plot = (100 * df_train['Annual_Income'].value_counts() / len(df_train['Annual_Income'])).plot(\n",
        "kind='bar', title='aaaa %')"
      ]
    },
    {
      "cell_type": "code",
      "execution_count": null,
      "metadata": {
        "colab": {
          "base_uri": "https://localhost:8080/",
          "height": 373
        },
        "id": "hgWR5ePBjATy",
        "outputId": "7afdc477-a848-434f-9ee7-d1f45ab11e59"
      },
      "outputs": [
        {
          "data": {
            "image/png": "[encoded data removed]",
            "text/plain": [
              "<Figure size 432x432 with 1 Axes>"
            ]
          },
          "metadata": {},
          "output_type": "display_data"
        }
      ],
      "source": [
        "plot = df_train['Age'].value_counts().plot(kind='pie', autopct='%.2f', \n",
        "                                            figsize=(6, 6),\n",
        "                                            title='Pasajeros del Titanic')"
      ]
    }
  ],
  "metadata": {
    "colab": {
      "collapsed_sections": [
        "niUmVXcaIByz",
        "QtrVF0gc2aaf"
      ],
      "provenance": []
    },
    "kernelspec": {
      "display_name": "Python 3",
      "name": "python3"
    },
    "language_info": {
      "name": "python"
    }
  },
  "nbformat": 4,
  "nbformat_minor": 0
}